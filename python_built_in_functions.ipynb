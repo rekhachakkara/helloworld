{
  "nbformat": 4,
  "nbformat_minor": 0,
  "metadata": {
    "colab": {
      "provenance": [],
      "authorship_tag": "ABX9TyMiJTczdHChucbVoa9G4aPc",
      "include_colab_link": true
    },
    "kernelspec": {
      "name": "python3",
      "display_name": "Python 3"
    },
    "language_info": {
      "name": "python"
    }
  },
  "cells": [
    {
      "cell_type": "markdown",
      "metadata": {
        "id": "view-in-github",
        "colab_type": "text"
      },
      "source": [
        "<a href=\"https://colab.research.google.com/github/rekhachakkara/python_learning/blob/master/python_built_in_functions.ipynb\" target=\"_parent\"><img src=\"https://colab.research.google.com/assets/colab-badge.svg\" alt=\"Open In Colab\"/></a>"
      ]
    },
    {
      "cell_type": "code",
      "execution_count": 22,
      "metadata": {
        "colab": {
          "base_uri": "https://localhost:8080/"
        },
        "id": "4GFzk4-s8ZvJ",
        "outputId": "1803237c-2701-4045-9651-57a9ebe6ac76"
      },
      "outputs": [
        {
          "output_type": "stream",
          "name": "stdout",
          "text": [
            "length of the string 5\n",
            "uppercase HELLO\n",
            "absolute 1.3333333333333333\n",
            "round 9\n",
            "min_value 1\n",
            "max_value 3\n",
            "sort_value [2, 3, 12]\n",
            "sum 118\n",
            "type_value <class 'bool'>\n",
            "upper ABCD\n",
            "lower abcd\n",
            "strip new user\n",
            "replace heyy\n",
            "split ['Hello', 'world', 'text']\n",
            "join helloworld\n"
          ]
        }
      ],
      "source": [
        "#python function\n",
        "a = \"Hello\"\n",
        "# Len() # returns the length of the string\n",
        "Len_value = len(a)\n",
        "print(\"length of the string\",Len_value)\n",
        "#python method\n",
        "#upper() convert the string to uppercase\n",
        "upper_value = a.upper() # difference of how methd is called\n",
        "print('uppercase',upper_value)\n",
        "#print() - print function\n",
        "#abs() returtns the absolute numeric value\n",
        "print(\"absolute\",abs(-4/3))\n",
        "#rounds() returns the round of the numeric value\n",
        "print(\"round\",round(8.97))\n",
        "#min() returns the smallest item on a list\n",
        "min_value = min(3,2,1)\n",
        "print(\"min_value\",min_value)\n",
        "#max() returns the biggest item on a list\n",
        "max_value = max(3,2,1)\n",
        "print(\"max_value\",max_value)\n",
        "#sorted() arrange the values in the ascending order . it can sort the numbers or string\n",
        "sort_value = [3,2,12]\n",
        "print(\"sort_value\",sorted(sort_value))\n",
        "#sum() sums the list of numeric values it accepts floata\n",
        "sum_value = [3,45,70]\n",
        "print(\"sum\",sum(sum_value))\n",
        "#type = returns the type of the variable\n",
        "type_value = True\n",
        "print(\"type_value\",type(type_value))\n",
        "#methods\n",
        "#upper - returns the uppercase version of the string\n",
        "upper_case_value = \"abcd\"\n",
        "upper_case_value = upper_case_value.upper()\n",
        "print(\"upper\", upper_case_value)\n",
        "#lower - returns the lower case vervion of the vtring\n",
        "lower_case_value = \"ABCD\"\n",
        "lower_case_value = lower_case_value.lower()\n",
        "print(\"lower\", lower_case_value)\n",
        "#strip - removes the whitespaces either in the begining or in the end\n",
        "strip_value = \" new user    \"\n",
        "strip_value = strip_value.strip()\n",
        "print(\"strip\",strip_value)\n",
        "#replace - replace the given string with the another string and it cave sensitive\n",
        "replace_value = \"hell\"\n",
        "replace_value = replace_value.replace('l','y')\n",
        "print(\"replace\",replace_value)\n",
        "#split - split the values in the string to a list using delimiter\n",
        "split_value = \"Hello world text\"\n",
        "split_value = split_value.split()\n",
        "print(\"split\",split_value)\n",
        "#join - join the value iof the string into one string n the list using the delimiter\n",
        "join_value = 'hello', 'world'\n",
        "join_value = ''.join(join_value)\n",
        "print(\"join\",join_value)\n"
      ]
    },
    {
      "cell_type": "code",
      "source": [],
      "metadata": {
        "id": "eGG6kp4ggmJb"
      },
      "execution_count": null,
      "outputs": []
    }
  ]
}