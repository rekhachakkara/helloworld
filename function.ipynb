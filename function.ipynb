{
  "nbformat": 4,
  "nbformat_minor": 0,
  "metadata": {
    "colab": {
      "provenance": [],
      "authorship_tag": "ABX9TyPTzxh5beDypQEa2DEELkE+",
      "include_colab_link": true
    },
    "kernelspec": {
      "name": "python3",
      "display_name": "Python 3"
    },
    "language_info": {
      "name": "python"
    }
  },
  "cells": [
    {
      "cell_type": "markdown",
      "metadata": {
        "id": "view-in-github",
        "colab_type": "text"
      },
      "source": [
        "<a href=\"https://colab.research.google.com/github/rekhachakkara/python_learning/blob/master/function.ipynb\" target=\"_parent\"><img src=\"https://colab.research.google.com/assets/colab-badge.svg\" alt=\"Open In Colab\"/></a>"
      ]
    },
    {
      "cell_type": "code",
      "execution_count": null,
      "metadata": {
        "colab": {
          "base_uri": "https://localhost:8080/"
        },
        "id": "1dEkIH6c3bdU",
        "outputId": "5e5fb12d-59f1-48bc-94f2-2d8dd5197c10"
      },
      "outputs": [
        {
          "output_type": "stream",
          "name": "stdout",
          "text": [
            "26\n"
          ]
        }
      ],
      "source": [
        "def my_function(x,y,z):\n",
        "  return 5 * x + y + z\n",
        "\n",
        "print(my_function(3,5,6))\n",
        "\n",
        "#print(my_function(5))\n",
        "#print(my_function(9))\n",
        "\n",
        "--for i = 1 to 10\n",
        "{\n",
        "    i = i + 1\n",
        "    return i\n",
        "}\n",
        "\n",
        "2\n",
        "3\n",
        "4\n",
        "5\n",
        "6\n",
        "7\n",
        "8\n",
        "9\n",
        "10\n",
        "11\n",
        "\n",
        "\n",
        "while count > 10\n",
        "\n",
        "{\n",
        "    print (my_function(10))\n",
        "}\n",
        "\n",
        "\n",
        "def student_function():\n",
        "  return total (mathvalue + englishvalue + sciencevalue)\n",
        "  print student_function(35,40,50)\n",
        "  ad b+ c + d\n",
        "\n",
        "sum()\n",
        "avg ()\n",
        "  write a function to calculate marklist  for 3 students using array or multiple function\n"
      ]
    },
    {
      "cell_type": "code",
      "source": [
        "*"
      ],
      "metadata": {
        "id": "-FkqNmUt_V9j"
      },
      "execution_count": null,
      "outputs": []
    }
  ]
}