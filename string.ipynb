{
  "nbformat": 4,
  "nbformat_minor": 0,
  "metadata": {
    "colab": {
      "provenance": [],
      "authorship_tag": "ABX9TyP6c23hPzUMgPQecaHcODWG",
      "include_colab_link": true
    },
    "kernelspec": {
      "name": "python3",
      "display_name": "Python 3"
    },
    "language_info": {
      "name": "python"
    }
  },
  "cells": [
    {
      "cell_type": "markdown",
      "metadata": {
        "id": "view-in-github",
        "colab_type": "text"
      },
      "source": [
        "<a href=\"https://colab.research.google.com/github/rekhachakkara/python_learning/blob/master/string.ipynb\" target=\"_parent\"><img src=\"https://colab.research.google.com/assets/colab-badge.svg\" alt=\"Open In Colab\"/></a>"
      ]
    },
    {
      "cell_type": "code",
      "execution_count": 16,
      "metadata": {
        "colab": {
          "base_uri": "https://localhost:8080/"
        },
        "id": "7bZhejpK2PgA",
        "outputId": "812b6773-5780-4d34-abdb-775a3e159e4d"
      },
      "outputs": [
        {
          "output_type": "stream",
          "name": "stdout",
          "text": [
            "hello \n",
            " random text \n",
            "slice lo\n",
            "lloworld\n",
            "\n",
            "upper val HELLO\n",
            "lower_val hello\n",
            "strip this is my  value\n",
            "texr thes es my  value \n",
            "text ['this', 'is', 'my', '', 'value', '']\n"
          ]
        }
      ],
      "source": [
        "# string start with ' single quote ad double quote \"\"\n",
        "z = '''hello '''\n",
        "print(z)\n",
        "# multi line strings\n",
        "y = \"\"\" random text \"\"\"\n",
        "print(y)\n",
        "#slicing string - returning string from certian range using slice . we have to specify the start index and end of the index\n",
        "value = \"Helloworld\"\n",
        "slice_value = value[3:5]\n",
        "print(\"slice\",slice_value)\n",
        "#slice from start to the end\n",
        "print(value[2:])\n",
        "#negative index slicing\n",
        "print(value[-2:-5])\n",
        "#string moodify\n",
        "# upper - upper case\n",
        "x = \"hello\"\n",
        "upper_val = x.upper()\n",
        "print(\"upper val\",upper_val)\n",
        "#lower - lower case\n",
        "print(\"lower_val\",upper_val.lower())\n",
        "#strip () - remove white spaces from the begining to end in the string\n",
        "text = \"this is my  value \"\n",
        "print(\"strip\",text.strip())\n",
        "# replace\n",
        "print(\"texr\",text.replace(\"i\",\"e\") )\n",
        "#split - split the string into  substring using comma\n",
        "print(\"text\",text.split(\" \"))\n"
      ]
    }
  ]
}