{
  "nbformat": 4,
  "nbformat_minor": 0,
  "metadata": {
    "colab": {
      "provenance": [],
      "authorship_tag": "ABX9TyMg14idwMIK7AITox9ft0jw",
      "include_colab_link": true
    },
    "kernelspec": {
      "name": "python3",
      "display_name": "Python 3"
    },
    "language_info": {
      "name": "python"
    }
  },
  "cells": [
    {
      "cell_type": "markdown",
      "metadata": {
        "id": "view-in-github",
        "colab_type": "text"
      },
      "source": [
        "<a href=\"https://colab.research.google.com/github/rekhachakkara/python_learning/blob/master/json.ipynb\" target=\"_parent\"><img src=\"https://colab.research.google.com/assets/colab-badge.svg\" alt=\"Open In Colab\"/></a>"
      ]
    },
    {
      "cell_type": "code",
      "execution_count": 11,
      "metadata": {
        "colab": {
          "base_uri": "https://localhost:8080/"
        },
        "id": "_iJ0TpbZdEQ1",
        "outputId": "43965b39-a73f-46fc-c3ec-2e857635007b"
      },
      "outputs": [
        {
          "output_type": "stream",
          "name": "stdout",
          "text": [
            "30\n",
            "{\"name\": \"John\", \"age\": 30, \"city\": \"New York\"}\n",
            "{\n",
            "    \"name\": \"John\",\n",
            "    \"age\": 30,\n",
            "    \"city\": \"New York\"\n",
            "}\n",
            "sort_val {\n",
            "    \"age\": 30,\n",
            "    \"city\": \"New York\",\n",
            "    \"name\": \"John\"\n",
            "}\n",
            "sept {\n",
            "    \"name\" = \"John\". \n",
            "    \"age\" = 30. \n",
            "    \"city\" = \"New York\"\n",
            "}\n"
          ]
        }
      ],
      "source": [
        "#json - used for storing and exchanging data\n",
        "# json is a text written in javascript notation\n",
        "#python has a inbulit package for json which used for converting json to python or python to json\n",
        "\n",
        "\n",
        "#convert json using loads oject the result will be in python dict\n",
        "import json\n",
        "\n",
        "x =  '{ \"name\":\"John\", \"age\":30, \"city\":\"New York\"}'\n",
        "y = json.loads(x)\n",
        "print(y[\"age\"])\n",
        "\n",
        "\n",
        "# convert python dict to json using dumps method\n",
        "x =  {\n",
        "    \"name\":\"John\",\n",
        "      \"age\":30,\n",
        "      \"city\":\"New York\"\n",
        "          }\n",
        "y = json.dumps(x)\n",
        "print(y)\n",
        "#format the ouput of json uing indent - adding space and comma to format the data properly\n",
        "z = json.dumps(x,indent=4)\n",
        "print(z)\n",
        "\n",
        "# sortkey - we can uve the sort key to arrange the output of the json\n",
        "\n",
        "sort_val = json.dumps(x,indent=4,sort_keys=True)\n",
        "print(\"sort_val\",sort_val)\n",
        "\n",
        "#seperators - changing the default parameter\n",
        "sept = json.dumps(x,indent=4,separators=(\". \", \" = \"))\n",
        "print(\"sept\",sept)\n",
        "\n",
        "\n"
      ]
    }
  ]
}