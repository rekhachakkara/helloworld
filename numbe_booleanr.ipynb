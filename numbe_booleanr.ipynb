{
  "nbformat": 4,
  "nbformat_minor": 0,
  "metadata": {
    "colab": {
      "provenance": [],
      "authorship_tag": "ABX9TyPdoxcD4kE6v+J9JRDrRrc+",
      "include_colab_link": true
    },
    "kernelspec": {
      "name": "python3",
      "display_name": "Python 3"
    },
    "language_info": {
      "name": "python"
    }
  },
  "cells": [
    {
      "cell_type": "markdown",
      "metadata": {
        "id": "view-in-github",
        "colab_type": "text"
      },
      "source": [
        "<a href=\"https://colab.research.google.com/github/rekhachakkara/python_learning/blob/master/numbe_booleanr.ipynb\" target=\"_parent\"><img src=\"https://colab.research.google.com/assets/colab-badge.svg\" alt=\"Open In Colab\"/></a>"
      ]
    },
    {
      "cell_type": "code",
      "execution_count": 1,
      "metadata": {
        "colab": {
          "base_uri": "https://localhost:8080/"
        },
        "id": "hn4rNSJMnDlt",
        "outputId": "7a789251-6d7a-43ec-8f1e-a0b380cde407"
      },
      "outputs": [
        {
          "output_type": "stream",
          "name": "stdout",
          "text": [
            "<class 'int'>\n",
            "<class 'float'>\n",
            "<class 'complex'>\n",
            "1\n",
            "2.5\n",
            "1j\n",
            "g1\n",
            "random 7\n"
          ]
        }
      ],
      "source": [
        "#numeric type\n",
        "\n",
        "x = 1\n",
        "y = 2.5\n",
        "z = 1j\n",
        "\n",
        "print(type(x))\n",
        "print(type(y))\n",
        "print(type(z))\n",
        "\n",
        "a = int(x)\n",
        "b = float(y)\n",
        "c = complex(z)\n",
        "d = str(\"g1\")\n",
        "print(a)\n",
        "print(b)\n",
        "print(c)\n",
        "print(d)\n",
        "#random  - random module generate random value\n",
        "import random\n",
        "cc = random.randrange(1,10)\n",
        "print(\"random\",cc)\n",
        "\n"
      ]
    },
    {
      "cell_type": "code",
      "source": [
        "# boolean - check whether true or fale\n",
        "x = \"Hello\"\n",
        "y = 15\n",
        "\n",
        "print(bool(x))\n",
        "print(bool(y))"
      ],
      "metadata": {
        "colab": {
          "base_uri": "https://localhost:8080/"
        },
        "id": "-wLV9slSvkMO",
        "outputId": "ab63cf32-ab84-4edc-b091-2040a9a24989"
      },
      "execution_count": null,
      "outputs": [
        {
          "output_type": "stream",
          "name": "stdout",
          "text": [
            "True\n",
            "True\n"
          ]
        }
      ]
    },
    {
      "cell_type": "code",
      "source": [
        "from os import unlink\n",
        "#casting - assigning a type to a variable\n",
        "s = int(1)\n",
        "t = float(\"3.0\")\n",
        "u = str(\"e4\")\n",
        "\n",
        "print(s,t,u)\n"
      ],
      "metadata": {
        "colab": {
          "base_uri": "https://localhost:8080/"
        },
        "id": "p4emmUd_lTnX",
        "outputId": "bd9625be-4306-4b63-8df6-ce225cfc5de5"
      },
      "execution_count": 2,
      "outputs": [
        {
          "output_type": "stream",
          "name": "stdout",
          "text": [
            "1 3.0 e4\n"
          ]
        }
      ]
    }
  ]
}