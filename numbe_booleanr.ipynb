{
  "nbformat": 4,
  "nbformat_minor": 0,
  "metadata": {
    "colab": {
      "provenance": [],
      "authorship_tag": "ABX9TyNtqkJN7yOk2PUU8WnkFJ+D",
      "include_colab_link": true
    },
    "kernelspec": {
      "name": "python3",
      "display_name": "Python 3"
    },
    "language_info": {
      "name": "python"
    }
  },
  "cells": [
    {
      "cell_type": "markdown",
      "metadata": {
        "id": "view-in-github",
        "colab_type": "text"
      },
      "source": [
        "<a href=\"https://colab.research.google.com/github/rekhachakkara/python_learning/blob/master/numbe_booleanr.ipynb\" target=\"_parent\"><img src=\"https://colab.research.google.com/assets/colab-badge.svg\" alt=\"Open In Colab\"/></a>"
      ]
    },
    {
      "cell_type": "code",
      "execution_count": 4,
      "metadata": {
        "colab": {
          "base_uri": "https://localhost:8080/"
        },
        "id": "hn4rNSJMnDlt",
        "outputId": "c88d60c7-9bf1-44e8-f4e8-f0c0d0a59245"
      },
      "outputs": [
        {
          "output_type": "stream",
          "name": "stdout",
          "text": [
            "<class 'int'>\n",
            "<class 'float'>\n",
            "<class 'complex'>\n",
            "1\n",
            "2.5\n",
            "1j\n",
            "2\n"
          ]
        }
      ],
      "source": [
        "#numeric type\n",
        "\n",
        "x = 1\n",
        "y = 2.5\n",
        "z = 1j\n",
        "\n",
        "print(type(x))\n",
        "print(type(y))\n",
        "print(type(z))\n",
        "\n",
        "a = int(x)\n",
        "b = float(y)\n",
        "c = complex(z)\n",
        "print(a)\n",
        "print(b)\n",
        "print(c)\n",
        "#random  - random module generate random value\n",
        "import random\n",
        "cc = random.randrange(1,10)\n",
        "print(\"random\",cc)\n",
        "\n"
      ]
    },
    {
      "cell_type": "code",
      "source": [
        "# boolean - check whether true or fale\n",
        "x = \"Hello\"\n",
        "y = 15\n",
        "\n",
        "print(bool(x))\n",
        "print(bool(y))"
      ],
      "metadata": {
        "colab": {
          "base_uri": "https://localhost:8080/"
        },
        "id": "-wLV9slSvkMO",
        "outputId": "ab63cf32-ab84-4edc-b091-2040a9a24989"
      },
      "execution_count": 5,
      "outputs": [
        {
          "output_type": "stream",
          "name": "stdout",
          "text": [
            "True\n",
            "True\n"
          ]
        }
      ]
    }
  ]
}