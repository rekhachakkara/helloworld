{
  "nbformat": 4,
  "nbformat_minor": 0,
  "metadata": {
    "colab": {
      "provenance": [],
      "authorship_tag": "ABX9TyOSE6vgyz6CvMLVWkSwkLey",
      "include_colab_link": true
    },
    "kernelspec": {
      "name": "python3",
      "display_name": "Python 3"
    },
    "language_info": {
      "name": "python"
    }
  },
  "cells": [
    {
      "cell_type": "markdown",
      "metadata": {
        "id": "view-in-github",
        "colab_type": "text"
      },
      "source": [
        "<a href=\"https://colab.research.google.com/github/rekhachakkara/python_learning/blob/master/dictionary.ipynb\" target=\"_parent\"><img src=\"https://colab.research.google.com/assets/colab-badge.svg\" alt=\"Open In Colab\"/></a>"
      ]
    },
    {
      "cell_type": "code",
      "execution_count": 10,
      "metadata": {
        "colab": {
          "base_uri": "https://localhost:8080/"
        },
        "id": "dh5BH6aNEQR5",
        "outputId": "683ec641-0be3-46d6-cfd4-dfc26158a059"
      },
      "outputs": [
        {
          "output_type": "stream",
          "name": "stdout",
          "text": [
            "{'name': 'x', 'sex': 'f', 'age': 12}\n",
            "12\n",
            "get x\n",
            "value mthod dict_values(['x', 'f', 12])\n",
            "items method dict_items([('name', 'x'), ('sex', 'f'), ('age', 12)])\n",
            "key method dict_keys(['name', 'sex', 'age'])\n",
            "age is available\n"
          ]
        }
      ],
      "source": [
        "#Dictionary are used to store data with key value paors. they can be ordered , changeable and dont allow duplicates\n",
        "thisdict =\t{\n",
        "  \"name\": \"x\",\n",
        "  \"sex\": \"f\",\n",
        "  \"age\": 12\n",
        "}\n",
        "print(thisdict);\n",
        "print(thisdict[\"age\"])\n",
        "#another method to use get to access values from dictionary\n",
        "dict_get = thisdict.get('name')\n",
        "print('get',dict_get)\n",
        "#get values () method\n",
        "print('value mthod',thisdict.values())\n",
        "#get items() method - items from the dictionary as a tuple or list\n",
        "print('items method',thisdict.items())\n",
        "#get key - list all items in the dictionary\n",
        "print('key method',thisdict.keys())\n",
        "#check if key exists\n",
        "if \"age\" in thisdict  :\n",
        "  print('age is available')"
      ]
    },
    {
      "cell_type": "code",
      "source": [],
      "metadata": {
        "id": "W7Tt4AWrFJyq"
      },
      "execution_count": null,
      "outputs": []
    }
  ]
}