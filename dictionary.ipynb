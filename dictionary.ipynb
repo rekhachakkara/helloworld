{
  "nbformat": 4,
  "nbformat_minor": 0,
  "metadata": {
    "colab": {
      "provenance": [],
      "authorship_tag": "ABX9TyM8Y9zRitNCHSUlnlvADNKF",
      "include_colab_link": true
    },
    "kernelspec": {
      "name": "python3",
      "display_name": "Python 3"
    },
    "language_info": {
      "name": "python"
    }
  },
  "cells": [
    {
      "cell_type": "markdown",
      "metadata": {
        "id": "view-in-github",
        "colab_type": "text"
      },
      "source": [
        "<a href=\"https://colab.research.google.com/github/rekhachakkara/python_learning/blob/master/dictionary.ipynb\" target=\"_parent\"><img src=\"https://colab.research.google.com/assets/colab-badge.svg\" alt=\"Open In Colab\"/></a>"
      ]
    },
    {
      "cell_type": "code",
      "execution_count": 32,
      "metadata": {
        "colab": {
          "base_uri": "https://localhost:8080/"
        },
        "id": "dh5BH6aNEQR5",
        "outputId": "474e7be3-0b1d-4602-8ae4-aee5b8852343"
      },
      "outputs": [
        {
          "output_type": "stream",
          "name": "stdout",
          "text": [
            "{'name': 'x', 'sex': 'f', 'age': 12}\n",
            "12\n",
            "copy method {'name': 'x', 'sex': 'f', 'age': 12, 'score': '150'}\n",
            "fromkey {'name': None, 'sex': None, 'age': None, 'score': None}\n",
            "setdefault None\n",
            "get None\n",
            "value mthod dict_values([None, None, None, None])\n",
            "items method dict_items([('name', None), ('sex', None), ('age', None), ('score', None)])\n",
            "key method dict_keys(['name', 'sex', 'age', 'score'])\n",
            "age is available\n",
            "{'name': None, 'sex': None, 'score': None}\n",
            "{'name': None, 'sex': None}\n"
          ]
        }
      ],
      "source": [
        "#Dictionary are used to store data with key value paors. they can be ordered , changeable and dont allow duplicates\n",
        "thisdict =\t{\n",
        "  \"name\": \"x\",\n",
        "  \"sex\": \"f\",\n",
        "  \"age\": 12\n",
        "}\n",
        "print(thisdict);\n",
        "#add item to dictionary\n",
        "thisdict[\"score\"] = '100'\n",
        "print(thisdict[\"age\"])\n",
        "#update item to dictionary\n",
        "thisdict.update({\"score\":'150'})\n",
        "#copy item from the dictionary\n",
        "x = thisdict.copy()\n",
        "print('copy method',x)\n",
        "#fromkey() - method returns dictionary with specified key and values.\n",
        "thisdict = dict.fromkeys(x)\n",
        "print('fromkey',thisdict)\n",
        "#setdefault - returns the value of the item with the specified key\n",
        "set_val = thisdict.setdefault(\"name\",\"rex\")\n",
        "print('setdefault',set_val)\n",
        "#another method to use get to access values from dictionary\n",
        "dict_get = thisdict.get('name')\n",
        "print('get',dict_get)\n",
        "#get values () method\n",
        "print('value mthod',thisdict.values())\n",
        "#get items() method - items from the dictionary as a tuple or list\n",
        "print('items method',thisdict.items())\n",
        "#get key - list all items in the dictionary\n",
        "print('key method',thisdict.keys())\n",
        "#check if key exists\n",
        "if \"age\" in thisdict  :\n",
        "  print('age is available')\n",
        "  #remove item from dictionary\n",
        "#pop() - remove item from the dictioary using key\n",
        "thisdict.pop(\"age\")\n",
        "print(thisdict);\n",
        "#popitem() - remove the last inserted item in the dictionary\n",
        "thisdict.popitem()\n",
        "print(thisdict)\n",
        "#del - delete the dictionary\n",
        "#del thisdict\n",
        "#del thisdict[\"age\"]\n",
        "#clear - clear all the contents of the dictionary\n",
        "thisdict.clear()\n"
      ]
    },
    {
      "cell_type": "code",
      "source": [],
      "metadata": {
        "id": "W7Tt4AWrFJyq"
      },
      "execution_count": null,
      "outputs": []
    }
  ]
}