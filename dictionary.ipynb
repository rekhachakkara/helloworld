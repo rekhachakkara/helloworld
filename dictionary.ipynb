{
  "nbformat": 4,
  "nbformat_minor": 0,
  "metadata": {
    "colab": {
      "provenance": [],
      "authorship_tag": "ABX9TyNnE4uJ17xdqHZFc3ZcOF24",
      "include_colab_link": true
    },
    "kernelspec": {
      "name": "python3",
      "display_name": "Python 3"
    },
    "language_info": {
      "name": "python"
    }
  },
  "cells": [
    {
      "cell_type": "markdown",
      "metadata": {
        "id": "view-in-github",
        "colab_type": "text"
      },
      "source": [
        "<a href=\"https://colab.research.google.com/github/rekhachakkara/helloworld/blob/master/dictionary.ipynb\" target=\"_parent\"><img src=\"https://colab.research.google.com/assets/colab-badge.svg\" alt=\"Open In Colab\"/></a>"
      ]
    },
    {
      "cell_type": "code",
      "execution_count": 1,
      "metadata": {
        "colab": {
          "base_uri": "https://localhost:8080/"
        },
        "id": "dh5BH6aNEQR5",
        "outputId": "6abde60c-95e1-490a-994d-45fa23717d39"
      },
      "outputs": [
        {
          "output_type": "stream",
          "name": "stdout",
          "text": [
            "{'name': 'x', 'sex': 'f', 'age': 12}\n",
            "12\n"
          ]
        }
      ],
      "source": [
        "#Dictionary are used to store data with key value paors. they can be ordered , changeable and dont allow duplicates\n",
        "thisdict =\t{\n",
        "  \"name\": \"x\",\n",
        "  \"sex\": \"f\",\n",
        "  \"age\": 12\n",
        "}\n",
        "print(thisdict);\n",
        "print(thisdict[\"age\"])"
      ]
    },
    {
      "cell_type": "code",
      "source": [],
      "metadata": {
        "id": "W7Tt4AWrFJyq"
      },
      "execution_count": null,
      "outputs": []
    }
  ]
}