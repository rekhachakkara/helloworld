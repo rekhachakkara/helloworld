{
  "nbformat": 4,
  "nbformat_minor": 0,
  "metadata": {
    "colab": {
      "provenance": [],
      "authorship_tag": "ABX9TyO7pKdf8C3v3MiI3W7DwRuN",
      "include_colab_link": true
    },
    "kernelspec": {
      "name": "python3",
      "display_name": "Python 3"
    },
    "language_info": {
      "name": "python"
    }
  },
  "cells": [
    {
      "cell_type": "markdown",
      "metadata": {
        "id": "view-in-github",
        "colab_type": "text"
      },
      "source": [
        "<a href=\"https://colab.research.google.com/github/rekhachakkara/python_learning/blob/master/datetime.ipynb\" target=\"_parent\"><img src=\"https://colab.research.google.com/assets/colab-badge.svg\" alt=\"Open In Colab\"/></a>"
      ]
    },
    {
      "cell_type": "code",
      "execution_count": 6,
      "metadata": {
        "colab": {
          "base_uri": "https://localhost:8080/"
        },
        "id": "Jp5XEy7DZW46",
        "outputId": "7ef3708c-261c-413c-adff-7846fda219d1"
      },
      "outputs": [
        {
          "output_type": "stream",
          "name": "stdout",
          "text": [
            "2023-12-27 04:04:40.098304\n",
            "2023\n",
            "27\n",
            "12\n",
            "Wed\n"
          ]
        }
      ],
      "source": [
        "import datetime\n",
        "d = datetime.datetime.now()\n",
        "print(d)\n",
        "\n",
        "print(d.year)\n",
        "print(d.day)\n",
        "print(d.month)\n",
        "\n",
        "#strftime() - method used fr formatting dateobject into readable string\n",
        "\n",
        "weekday = d.strftime('%a')\n",
        "print(weekday)"
      ]
    }
  ]
}