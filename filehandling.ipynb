{
  "nbformat": 4,
  "nbformat_minor": 0,
  "metadata": {
    "colab": {
      "provenance": [],
      "authorship_tag": "ABX9TyODW2S74Rw/Ayt2izwUm5uv",
      "include_colab_link": true
    },
    "kernelspec": {
      "name": "python3",
      "display_name": "Python 3"
    },
    "language_info": {
      "name": "python"
    }
  },
  "cells": [
    {
      "cell_type": "markdown",
      "metadata": {
        "id": "view-in-github",
        "colab_type": "text"
      },
      "source": [
        "<a href=\"https://colab.research.google.com/github/rekhachakkara/helloworld/blob/master/filehandling.ipynb\" target=\"_parent\"><img src=\"https://colab.research.google.com/assets/colab-badge.svg\" alt=\"Open In Colab\"/></a>"
      ]
    },
    {
      "cell_type": "code",
      "execution_count": null,
      "metadata": {
        "id": "pn4q1Edn1R7D"
      },
      "outputs": [],
      "source": []
    },
    {
      "cell_type": "code",
      "source": [
        "f = open(\"demofile2.txt\", \"a\")\n",
        "f.write(\"Now the file has more content!\")\n",
        "f.close()\n",
        "\n",
        "#open and read the file after the appending:\n",
        "f = open(\"demofile2.txt\", \"r\")\n",
        "print(f.read())\n"
      ],
      "metadata": {
        "colab": {
          "base_uri": "https://localhost:8080/"
        },
        "id": "xLXJWlic1UyN",
        "outputId": "a276fb28-16ba-439c-d6f5-0099aef354ad"
      },
      "execution_count": 5,
      "outputs": [
        {
          "output_type": "stream",
          "name": "stdout",
          "text": [
            "Now the file has more content!Now the file has more content!Now the file has more content!\n"
          ]
        }
      ]
    }
  ]
}