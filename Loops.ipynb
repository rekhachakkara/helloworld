{
  "nbformat": 4,
  "nbformat_minor": 0,
  "metadata": {
    "colab": {
      "provenance": [],
      "authorship_tag": "ABX9TyN2SgiPdl8FdV3DAzXwMc3E",
      "include_colab_link": true
    },
    "kernelspec": {
      "name": "python3",
      "display_name": "Python 3"
    },
    "language_info": {
      "name": "python"
    }
  },
  "cells": [
    {
      "cell_type": "markdown",
      "metadata": {
        "id": "view-in-github",
        "colab_type": "text"
      },
      "source": [
        "<a href=\"https://colab.research.google.com/github/rekhachakkara/python_learning/blob/master/Loops.ipynb\" target=\"_parent\"><img src=\"https://colab.research.google.com/assets/colab-badge.svg\" alt=\"Open In Colab\"/></a>"
      ]
    },
    {
      "cell_type": "code",
      "execution_count": 12,
      "metadata": {
        "colab": {
          "base_uri": "https://localhost:8080/"
        },
        "id": "ZEJDAiT-8IpK",
        "outputId": "c06c3615-708d-423f-99e3-98268f4caf84"
      },
      "outputs": [
        {
          "output_type": "stream",
          "name": "stdout",
          "text": [
            "1\n",
            "a in loop 0\n",
            "2\n",
            "a in loop 0\n",
            "3\n"
          ]
        }
      ],
      "source": [
        "#loops - executing set of statements based on the condition\n",
        "#if else,while continue ,break\n",
        "i = 1\n",
        "while i < 6:\n",
        "  print(i)\n",
        "  if i == 3:\n",
        "    break\n",
        "  i += 1\n",
        "\n",
        "  a = 0\n",
        "  while a < 0:\n",
        "    a +=1\n",
        "    if a == 3:\n",
        "       continue\n",
        "  print(\"a in loop\",a)\n",
        "else:\n",
        "  print(\"not exit\")\n",
        "\n"
      ]
    }
  ]
}