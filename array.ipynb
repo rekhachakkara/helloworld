{
  "nbformat": 4,
  "nbformat_minor": 0,
  "metadata": {
    "colab": {
      "provenance": [],
      "authorship_tag": "ABX9TyNz6Ez4dhsQevuttaR8bJU/",
      "include_colab_link": true
    },
    "kernelspec": {
      "name": "python3",
      "display_name": "Python 3"
    },
    "language_info": {
      "name": "python"
    }
  },
  "cells": [
    {
      "cell_type": "markdown",
      "metadata": {
        "id": "view-in-github",
        "colab_type": "text"
      },
      "source": [
        "<a href=\"https://colab.research.google.com/github/rekhachakkara/python_learning/blob/master/array.ipynb\" target=\"_parent\"><img src=\"https://colab.research.google.com/assets/colab-badge.svg\" alt=\"Open In Colab\"/></a>"
      ]
    },
    {
      "cell_type": "code",
      "execution_count": 20,
      "metadata": {
        "colab": {
          "base_uri": "https://localhost:8080/"
        },
        "id": "yPMd8cqIupl3",
        "outputId": "2bebb5ce-5801-4b2d-cb83-0b539ddebc3e"
      },
      "outputs": [
        {
          "output_type": "stream",
          "name": "stdout",
          "text": [
            "Ford\n"
          ]
        }
      ],
      "source": [
        "#Array - variable to hold more than one elements\n",
        "cars  = [\"Ford\", \"Volvo\",\"BMW\"]\n",
        "x = cars[0]\n",
        "print(x)"
      ]
    },
    {
      "cell_type": "code",
      "source": [
        "#array methods\n",
        "#lehgth - length of the array\n",
        "y = len(cars)\n",
        "print(y)\n",
        "#append - adding element to the array\n",
        "cars.append(\"toyato\")\n",
        "print(cars)\n",
        "#copy - returns  the copy of the livt\n",
        "cars.copy()\n",
        "#count - retutns  the number of  elements  with the specified value\n",
        "cars.count(\"toyato\")\n",
        "#index - retutns  the index of the element with the specified value\n",
        "z = cars.index(\"Ford\")\n",
        "print(z)\n",
        "#extend - add elements  of the list to the current or end of the list\n",
        "fruits = [\"banana\",\"apple\"]\n",
        "extend_array = cars.extend(fruits)\n",
        "print(extend_array)\n",
        "#insert - add elemets  to the array in the specified position\n",
        "insert_array = fruits.insert(1,\"orange\")\n",
        "print(fruits)\n",
        "#pop - remove the ekemet from the array from the specified position\n",
        "fruits.pop(1)\n",
        "print(\"pop\",fruits)\n",
        "#reverse - reverse the sorting order of the elements  in the array\n",
        "fruits_reverse = fruits.reverse()\n",
        "print(\"reverse\", fruits)\n",
        "#sort - sort the elements in the array in ascending order\n",
        "fruits.sort(reverse=True)\n",
        "print(\"sort\",fruits)\n",
        "def myfunc(e):\n",
        "  return(len(e))\n",
        "fruits.sort(key=myfunc)\n",
        "print(\"sort by key\",fruits)\n",
        "#clear - remove all the elements  from the array\n",
        "#cars.clear()\n",
        "#print(cars)\n"
      ],
      "metadata": {
        "colab": {
          "base_uri": "https://localhost:8080/"
        },
        "id": "diRbXHI9wbaI",
        "outputId": "2c7abcc5-2d87-4678-e391-00404cfa28fd"
      },
      "execution_count": 39,
      "outputs": [
        {
          "output_type": "stream",
          "name": "stdout",
          "text": [
            "39\n",
            "['Ford', 'Volvo', 'BMW', 'toyato', 'toyato', 'toyato', 'toyato', 'toyato', 'toyato', 'toyato', 'toyato', 'toyato', 'toyato', 'banana', 'apple', 'toyato', 'banana', 'apple', 'toyato', 'banana', 'apple', 'toyato', 'banana', 'apple', 'toyato', 'banana', 'apple', 'toyato', 'banana', 'apple', 'toyato', 'banana', 'apple', 'toyato', 'banana', 'apple', 'toyato', 'banana', 'apple', 'toyato']\n",
            "0\n",
            "None\n",
            "['banana', 'orange', 'apple']\n",
            "pop ['banana', 'apple']\n",
            "reverse ['apple', 'banana']\n",
            "sort ['banana', 'apple']\n",
            "sort by key ['apple', 'banana']\n"
          ]
        }
      ]
    }
  ]
}