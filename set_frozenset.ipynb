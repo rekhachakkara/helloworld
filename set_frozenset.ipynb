{
  "nbformat": 4,
  "nbformat_minor": 0,
  "metadata": {
    "colab": {
      "provenance": [],
      "authorship_tag": "ABX9TyMq1Boqli/CKmR357R9qV62",
      "include_colab_link": true
    },
    "kernelspec": {
      "name": "python3",
      "display_name": "Python 3"
    },
    "language_info": {
      "name": "python"
    }
  },
  "cells": [
    {
      "cell_type": "markdown",
      "metadata": {
        "id": "view-in-github",
        "colab_type": "text"
      },
      "source": [
        "<a href=\"https://colab.research.google.com/github/rekhachakkara/python_learning/blob/master/set_frozenset.ipynb\" target=\"_parent\"><img src=\"https://colab.research.google.com/assets/colab-badge.svg\" alt=\"Open In Colab\"/></a>"
      ]
    },
    {
      "cell_type": "code",
      "execution_count": 4,
      "metadata": {
        "colab": {
          "base_uri": "https://localhost:8080/"
        },
        "id": "Zj4peDkQF3XX",
        "outputId": "3cf94f23-df17-4aed-9f2c-7c5db976ba4b"
      },
      "outputs": [
        {
          "output_type": "stream",
          "name": "stdout",
          "text": [
            "Unique elements: {'Apple', 'Cherry', 'Banana', 'Mango', 'Kiwi'}\n",
            "After adding new element: {'Apple', 'Cherry', 'Orange', 'Banana', 'Mango', 'Kiwi'}\n",
            "Size of the set: 6\n",
            "Apple is present in the set: True\n",
            "Mango is present in the set: True\n",
            "After removing element: {'Apple', 'Cherry', 'Orange', 'Banana', 'Kiwi'}\n",
            "After discarding element: {'Apple', 'Cherry', 'Orange', 'Banana', 'Kiwi'}\n"
          ]
        }
      ],
      "source": [
        "#set is unordered , unchangeable and does not allow duplicate value . set are mutable u can add / remove  elements using bulit in function (add/ remove)\n",
        "fruits = {\"Apple\", \"Banana\", \"Cherry\", \"Apple\", \"Kiwi\",\"Mango\"}\n",
        "\n",
        "print('Unique elements:', fruits)\n",
        "\n",
        "# Add new fruit\n",
        "fruits.add(\"Orange\")\n",
        "print('After adding new element:', fruits)\n",
        "\n",
        "# Size of the set\n",
        "print('Size of the set:', len(fruits))\n",
        "\n",
        "# check if the element is present in the set\n",
        "print('Apple is present in the set:', \"Apple\" in fruits)\n",
        "print('Mango is present in the set:', \"Mango\" in fruits)\n",
        "\n",
        "# Remove the element from the set\n",
        "fruits.remove(\"Mango\")\n",
        "print('After removing element:', fruits)\n",
        "\n",
        "# Discard the element from the set\n",
        "fruits.discard(\"Mango\")\n",
        "print('After discarding element:', fruits)"
      ]
    },
    {
      "cell_type": "code",
      "source": [
        "#FrozenSet iS unordered , unchangeable without duplicate valueS but itS immmutable cannot add /remove elementS using bulit in functions\n",
        "fruits = {\"Apple\", \"Banana\", \"Cherry\", \"Apple\", \"Kiwi\"}\n",
        "basket = frozenset(fruits)\n",
        "\n",
        "print('Unique elements:', basket)\n",
        "\n",
        "# Add new fruit throws an error!\n",
        "basket.add(\"Orange\")\n",
        "print('After adding new element:', basket)\n"
      ],
      "metadata": {
        "colab": {
          "base_uri": "https://localhost:8080/",
          "height": 254
        },
        "id": "iQHBoL69HET_",
        "outputId": "8fd842de-c6fe-4b9b-8242-0f88bcbe71f6"
      },
      "execution_count": 3,
      "outputs": [
        {
          "output_type": "stream",
          "name": "stdout",
          "text": [
            "Unique elements: frozenset({'Apple', 'Cherry', 'Kiwi', 'Banana'})\n"
          ]
        },
        {
          "output_type": "error",
          "ename": "AttributeError",
          "evalue": "ignored",
          "traceback": [
            "\u001b[0;31m---------------------------------------------------------------------------\u001b[0m",
            "\u001b[0;31mAttributeError\u001b[0m                            Traceback (most recent call last)",
            "\u001b[0;32m<ipython-input-3-111a1ea22a02>\u001b[0m in \u001b[0;36m<cell line: 8>\u001b[0;34m()\u001b[0m\n\u001b[1;32m      6\u001b[0m \u001b[0;34m\u001b[0m\u001b[0m\n\u001b[1;32m      7\u001b[0m \u001b[0;31m# Add new fruit throws an error!\u001b[0m\u001b[0;34m\u001b[0m\u001b[0;34m\u001b[0m\u001b[0m\n\u001b[0;32m----> 8\u001b[0;31m \u001b[0mbasket\u001b[0m\u001b[0;34m.\u001b[0m\u001b[0madd\u001b[0m\u001b[0;34m(\u001b[0m\u001b[0;34m\"Orange\"\u001b[0m\u001b[0;34m)\u001b[0m\u001b[0;34m\u001b[0m\u001b[0;34m\u001b[0m\u001b[0m\n\u001b[0m\u001b[1;32m      9\u001b[0m \u001b[0mprint\u001b[0m\u001b[0;34m(\u001b[0m\u001b[0;34m'After adding new element:'\u001b[0m\u001b[0;34m,\u001b[0m \u001b[0mbasket\u001b[0m\u001b[0;34m)\u001b[0m\u001b[0;34m\u001b[0m\u001b[0;34m\u001b[0m\u001b[0m\n",
            "\u001b[0;31mAttributeError\u001b[0m: 'frozenset' object has no attribute 'add'"
          ]
        }
      ]
    },
    {
      "cell_type": "code",
      "source": [
        "student = {\"Name\": \"John\", \"Age\": \"25\", \"Gender\": \"Male\"}\n",
        "key = frozenset(student)\n",
        "\n",
        "print(\"The keys are:\", key student = {\"Name\": \"John\", \"Age\": \"25\", \"Gender\": \"Male\"})\n",
        "key = frozenset(student)\n",
        "\n",
        "print(\"The keys are:\", key)ing dictionary"
      ],
      "metadata": {
        "colab": {
          "base_uri": "https://localhost:8080/",
          "height": 144
        },
        "id": "6zoCnW7uHmj8",
        "outputId": "94bcb119-6cf4-4bb6-cd20-4eabe9ddc2ff"
      },
      "execution_count": 6,
      "outputs": [
        {
          "output_type": "error",
          "ename": "SyntaxError",
          "evalue": "ignored",
          "traceback": [
            "\u001b[0;36m  File \u001b[0;32m\"<ipython-input-6-7886046db36b>\"\u001b[0;36m, line \u001b[0;32m4\u001b[0m\n\u001b[0;31m    print(\"The keys are:\", key student = {\"Name\": \"John\", \"Age\": \"25\", \"Gender\": \"Male\"}\u001b[0m\n\u001b[0m                           ^\u001b[0m\n\u001b[0;31mSyntaxError\u001b[0m\u001b[0;31m:\u001b[0m invalid syntax. Perhaps you forgot a comma?\n"
          ]
        }
      ]
    }
  ]
}