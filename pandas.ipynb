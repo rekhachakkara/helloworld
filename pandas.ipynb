{
  "nbformat": 4,
  "nbformat_minor": 0,
  "metadata": {
    "colab": {
      "provenance": [],
      "authorship_tag": "ABX9TyM1okCg21lY1Q+fedwMe+2a",
      "include_colab_link": true
    },
    "kernelspec": {
      "name": "python3",
      "display_name": "Python 3"
    },
    "language_info": {
      "name": "python"
    }
  },
  "cells": [
    {
      "cell_type": "markdown",
      "metadata": {
        "id": "view-in-github",
        "colab_type": "text"
      },
      "source": [
        "<a href=\"https://colab.research.google.com/github/rekhachakkara/python_learning/blob/master/pandas.ipynb\" target=\"_parent\"><img src=\"https://colab.research.google.com/assets/colab-badge.svg\" alt=\"Open In Colab\"/></a>"
      ]
    },
    {
      "cell_type": "code",
      "execution_count": 9,
      "metadata": {
        "colab": {
          "base_uri": "https://localhost:8080/"
        },
        "id": "M6w0r5hyLY-x",
        "outputId": "5d6bcd9e-2bd5-4dae-e97e-c4e61fd1c5d9"
      },
      "outputs": [
        {
          "output_type": "stream",
          "name": "stdout",
          "text": [
            "0    1.0\n",
            "1    3.0\n",
            "2    5.0\n",
            "3    NaN\n",
            "4    6.0\n",
            "5    8.0\n",
            "dtype: float64\n",
            "0    1\n",
            "1    2\n",
            "2    3\n",
            "dtype: int64\n"
          ]
        }
      ],
      "source": [
        "#PandaS iv a python library uSed to aalyze data\n",
        "#padaS haS two typeS of claSSeS for handling data\n",
        "# claSSeS > SerieS >> one dimenSional array holding any type of daTA Such aS integer,String and python objectS\n",
        "#SerieS = pd.SerieS(data,index=index)\n",
        "# Dataframe >> two dimenSional data Structure holding two dimenSional array or a table with rowS and columnS\n",
        "#dataframe can hold any data from a vpreadSheet or from Sql record or from any two dimenSional array\n",
        "#dataframe iS commonly uSed claSS in panda\n",
        "#dataframe = pd.Dataframe(data)\n",
        "\n",
        "\n",
        "# acceSSing data uSing SerieS\n",
        "import numpy as np\n",
        "import pandas as pd\n",
        "value1 = pd.Series([1, 3, 5, np.nan, 6, 8])\n",
        "value2 = pd.Series([1,2,3])\n",
        "print(value1)\n",
        "print(value2)"
      ]
    },
    {
      "cell_type": "code",
      "source": [
        "#acceSSing data uving dataframe\n",
        "import pandas as pd\n",
        "data = {\n",
        "  \"calories\": [420, 380, 390],\n",
        "  \"duration\": [50, 40, 45]\n",
        "}\n",
        "value_1 = pd.DataFrame(data)\n",
        "print(value_1)\n",
        "#to locate specific data using loc attribute return row 0\n",
        "print(\"row 0\" ,value_1.loc[0])\n"
      ],
      "metadata": {
        "colab": {
          "base_uri": "https://localhost:8080/"
        },
        "id": "97iDjm12X_5C",
        "outputId": "46e68acb-a703-475e-d688-8356cfc950a2"
      },
      "execution_count": 14,
      "outputs": [
        {
          "output_type": "stream",
          "name": "stdout",
          "text": [
            "   calories  duration\n",
            "0       420        50\n",
            "1       380        40\n",
            "2       390        45\n",
            "row 0 calories    420\n",
            "duration     50\n",
            "Name: 0, dtype: int64\n"
          ]
        }
      ]
    },
    {
      "cell_type": "code",
      "source": [],
      "metadata": {
        "id": "_iMjdLPyNM5j"
      },
      "execution_count": 7,
      "outputs": []
    }
  ]
}