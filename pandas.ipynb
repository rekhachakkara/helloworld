{
  "nbformat": 4,
  "nbformat_minor": 0,
  "metadata": {
    "colab": {
      "provenance": [],
      "authorship_tag": "ABX9TyPnCtdN84WPyBsdeZ5uNWHJ",
      "include_colab_link": true
    },
    "kernelspec": {
      "name": "python3",
      "display_name": "Python 3"
    },
    "language_info": {
      "name": "python"
    }
  },
  "cells": [
    {
      "cell_type": "markdown",
      "metadata": {
        "id": "view-in-github",
        "colab_type": "text"
      },
      "source": [
        "<a href=\"https://colab.research.google.com/github/rekhachakkara/python_learning/blob/master/pandas.ipynb\" target=\"_parent\"><img src=\"https://colab.research.google.com/assets/colab-badge.svg\" alt=\"Open In Colab\"/></a>"
      ]
    },
    {
      "cell_type": "code",
      "execution_count": null,
      "metadata": {
        "colab": {
          "base_uri": "https://localhost:8080/"
        },
        "id": "M6w0r5hyLY-x",
        "outputId": "5d6bcd9e-2bd5-4dae-e97e-c4e61fd1c5d9"
      },
      "outputs": [
        {
          "output_type": "stream",
          "name": "stdout",
          "text": [
            "0    1.0\n",
            "1    3.0\n",
            "2    5.0\n",
            "3    NaN\n",
            "4    6.0\n",
            "5    8.0\n",
            "dtype: float64\n",
            "0    1\n",
            "1    2\n",
            "2    3\n",
            "dtype: int64\n"
          ]
        }
      ],
      "source": [
        "#PandaS iv a python library uSed to aalyze data\n",
        "#padaS haS two typeS of claSSeS for handling data\n",
        "# claSSeS > SerieS >> one dimenSional array holding any type of daTA Such aS integer,String and python objectS\n",
        "#SerieS = pd.SerieS(data,index=index)\n",
        "# Dataframe >> two dimenSional data Structure holding two dimenSional array or a table with rowS and columnS\n",
        "#dataframe can hold any data from a vpreadSheet or from Sql record or from any two dimenSional array\n",
        "#dataframe iS commonly uSed claSS in panda\n",
        "#dataframe = pd.Dataframe(data)\n",
        "\n",
        "\n",
        "# acceSSing data uSing SerieS\n",
        "import numpy as np\n",
        "import pandas as pd\n",
        "value1 = pd.Series([1, 3, 5, np.nan, 6, 8])\n",
        "value2 = pd.Series([1,2,3])\n",
        "print(value1)\n",
        "print(value2)"
      ]
    },
    {
      "cell_type": "code",
      "source": [
        "#acceSSing data uving dataframe\n",
        "import pandas as pd\n",
        "data = {\n",
        "  \"calories\": [420, 380, 390],\n",
        "  \"duration\": [50, 40, 45]\n",
        "}\n",
        "value_1 = pd.DataFrame(data)\n",
        "print(value_1)\n",
        "#to locate specific data using loc attribute return row 0\n",
        "print(\"row 0\" ,value_1.loc[0])\n"
      ],
      "metadata": {
        "colab": {
          "base_uri": "https://localhost:8080/"
        },
        "id": "97iDjm12X_5C",
        "outputId": "46e68acb-a703-475e-d688-8356cfc950a2"
      },
      "execution_count": null,
      "outputs": [
        {
          "output_type": "stream",
          "name": "stdout",
          "text": [
            "   calories  duration\n",
            "0       420        50\n",
            "1       380        40\n",
            "2       390        45\n",
            "row 0 calories    420\n",
            "duration     50\n",
            "Name: 0, dtype: int64\n"
          ]
        }
      ]
    },
    {
      "cell_type": "code",
      "source": [
        "#panda Dataframe from excel file\n"
      ],
      "metadata": {
        "id": "25C0nmd3kiWI"
      },
      "execution_count": null,
      "outputs": []
    },
    {
      "cell_type": "code",
      "source": [
        "from google.colab import drive\n",
        "drive.mount('/content/drive')\n"
      ],
      "metadata": {
        "id": "_iMjdLPyNM5j",
        "colab": {
          "base_uri": "https://localhost:8080/"
        },
        "outputId": "c964da63-b028-42f8-a069-fc70d8c32ec1"
      },
      "execution_count": 1,
      "outputs": [
        {
          "output_type": "stream",
          "name": "stdout",
          "text": [
            "Mounted at /content/drive\n"
          ]
        }
      ]
    },
    {
      "cell_type": "code",
      "source": [
        "import pandas as pd\n",
        "data = pd.read_excel(\"/content/drive/MyDrive/Data_set_rekha/data1.xlsx\")\n",
        "\n",
        "#data.head()  #display first 5 row from the table\n",
        "#data.tail()   #display last 5 rowv from the table but can also pass a custom number\n",
        "#data.tail(3) # diplay last 3 records froom the table\n",
        "\n",
        "#using dataframe too read the data from excel\n",
        "\n",
        "data2 = pd.DataFrame(data)\n",
        "print(data2)\n"
      ],
      "metadata": {
        "colab": {
          "base_uri": "https://localhost:8080/"
        },
        "id": "D9Q2AxW5yY3F",
        "outputId": "1857f824-78d4-4640-ce69-71b897690640"
      },
      "execution_count": 46,
      "outputs": [
        {
          "output_type": "stream",
          "name": "stdout",
          "text": [
            "    id  player       year  lg team   ab    r\n",
            "0   80   89474  finlest01   1  COL   43   94\n",
            "1   81   89480  embreal01   1  OAK    4    0\n",
            "2   82   89481  edmonji01   1  SLN  117  365\n",
            "3   83   89482  easleda01   1  NYN   76  193\n",
            "4   84   89489  delgaca01   1  NYN  139  538\n",
            "5   85   89493  cormirh01   1  CIN    6    0\n",
            "6   86   89494  coninje01   2  NYN   21   41\n",
            "7   87   89495  coninje01   1  CIN   80  215\n",
            "8   88   89497  clemero02   1  NYA    2    2\n",
            "9   89   89498  claytro01   2  BOS    8    6\n",
            "10  90   89499  claytro01   1  TOR   69  189\n",
            "11  91   89501  cirilje01   2  ARI   28   40\n",
            "12  92   89502  cirilje01   1  MIN   50  153\n",
            "13  93   89521  bondsba01   1  SFN  126  340\n",
            "14  94   89523  biggicr01   1  HOU  141  517\n",
            "15  95   89525  benitar01   2  FLO   34    0\n",
            "16  96   89526  benitar01   1  SFN   19    0\n",
            "17  97   89530  ausmubr01   1  HOU  117  349\n",
            "18  98   89533   aloumo01   1  NYN   87  328\n",
            "19  99   89534  alomasa02   1  NYN    8   22\n"
          ]
        }
      ]
    },
    {
      "cell_type": "code",
      "source": [
        "#Merge , join , concenate , compare\n",
        "import pandas as pd\n",
        "sheet1 = pd.read_excel(\"/content/drive/MyDrive/Data_set_rekha/data1.xlsx\")\n",
        "sheet2 = pd.read_excel(\"/content/drive/MyDrive/Data_set_rekha/test.xlsx\")\n",
        "sheet1_data = pd.DataFrame(sheet1)\n",
        "sheet2_data = pd.DataFrame(sheet2)\n",
        "sheet_datas = [sheet1_data,sheet2_data]\n",
        "data_result = pd.concat(sheet_datas)\n",
        "print(data_result)\n",
        "#print(data_result.loc[6])\n",
        "#using merge\n",
        "#data_merge_value = pd.merge(sheet1_data, sheet2_data, on=\"id\", how=\"outer\", indicator=True)\n",
        "#print(data_merge_value)\n"
      ],
      "metadata": {
        "colab": {
          "base_uri": "https://localhost:8080/"
        },
        "id": "Cr6wYhxUICch",
        "outputId": "0391226b-14e0-4c7a-9113-6cff39cbe885"
      },
      "execution_count": 16,
      "outputs": [
        {
          "output_type": "stream",
          "name": "stdout",
          "text": [
            "      id   player       year   lg team     ab      r   Name  Marks\n",
            "0   80.0  89474.0  finlest01  1.0  COL   43.0   94.0    NaN    NaN\n",
            "1   81.0  89480.0  embreal01  1.0  OAK    4.0    0.0    NaN    NaN\n",
            "2   82.0  89481.0  edmonji01  1.0  SLN  117.0  365.0    NaN    NaN\n",
            "3   83.0  89482.0  easleda01  1.0  NYN   76.0  193.0    NaN    NaN\n",
            "4   84.0  89489.0  delgaca01  1.0  NYN  139.0  538.0    NaN    NaN\n",
            "5   85.0  89493.0  cormirh01  1.0  CIN    6.0    0.0    NaN    NaN\n",
            "6   86.0  89494.0  coninje01  2.0  NYN   21.0   41.0    NaN    NaN\n",
            "7   87.0  89495.0  coninje01  1.0  CIN   80.0  215.0    NaN    NaN\n",
            "8   88.0  89497.0  clemero02  1.0  NYA    2.0    2.0    NaN    NaN\n",
            "9   89.0  89498.0  claytro01  2.0  BOS    8.0    6.0    NaN    NaN\n",
            "10  90.0  89499.0  claytro01  1.0  TOR   69.0  189.0    NaN    NaN\n",
            "11  91.0  89501.0  cirilje01  2.0  ARI   28.0   40.0    NaN    NaN\n",
            "12  92.0  89502.0  cirilje01  1.0  MIN   50.0  153.0    NaN    NaN\n",
            "13  93.0  89521.0  bondsba01  1.0  SFN  126.0  340.0    NaN    NaN\n",
            "14  94.0  89523.0  biggicr01  1.0  HOU  141.0  517.0    NaN    NaN\n",
            "15  95.0  89525.0  benitar01  2.0  FLO   34.0    0.0    NaN    NaN\n",
            "16  96.0  89526.0  benitar01  1.0  SFN   19.0    0.0    NaN    NaN\n",
            "17  97.0  89530.0  ausmubr01  1.0  HOU  117.0  349.0    NaN    NaN\n",
            "18  98.0  89533.0   aloumo01  1.0  NYN   87.0  328.0    NaN    NaN\n",
            "19  99.0  89534.0  alomasa02  1.0  NYN    8.0   22.0    NaN    NaN\n",
            "0    NaN      NaN        NaN  NaN  NaN    NaN    NaN  rekha   90.0\n",
            "1    NaN      NaN        NaN  NaN  NaN    NaN    NaN    len   25.0\n",
            "2    NaN      NaN        NaN  NaN  NaN    NaN    NaN    abc   78.0\n"
          ]
        }
      ]
    }
  ]
}