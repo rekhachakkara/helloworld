{
  "nbformat": 4,
  "nbformat_minor": 0,
  "metadata": {
    "colab": {
      "provenance": [],
      "authorship_tag": "ABX9TyNR8NpLW9qzfHaK+HrMSCz3",
      "include_colab_link": true
    },
    "kernelspec": {
      "name": "python3",
      "display_name": "Python 3"
    },
    "language_info": {
      "name": "python"
    }
  },
  "cells": [
    {
      "cell_type": "markdown",
      "metadata": {
        "id": "view-in-github",
        "colab_type": "text"
      },
      "source": [
        "<a href=\"https://colab.research.google.com/github/rekhachakkara/python_learning/blob/master/pandas.ipynb\" target=\"_parent\"><img src=\"https://colab.research.google.com/assets/colab-badge.svg\" alt=\"Open In Colab\"/></a>"
      ]
    },
    {
      "cell_type": "code",
      "execution_count": null,
      "metadata": {
        "colab": {
          "base_uri": "https://localhost:8080/"
        },
        "id": "M6w0r5hyLY-x",
        "outputId": "9eeb23f6-dab9-4de1-88eb-7cf82a0966d4"
      },
      "outputs": [
        {
          "output_type": "stream",
          "name": "stdout",
          "text": [
            "0    1.0\n",
            "1    3.0\n",
            "2    5.0\n",
            "3    NaN\n",
            "4    6.0\n",
            "5    8.0\n",
            "dtype: float64\n",
            "0    1\n",
            "1    2\n",
            "2    3\n",
            "dtype: int64\n"
          ]
        }
      ],
      "source": [
        "#PandaS iv a python library uSed to aalyze data\n",
        "#padaS haS two typeS of claSSeS for handling data\n",
        "# claSSeS > SerieS >> one dimenSional array holding any type of daTA Such aS integer,String and python objectS\n",
        "#SerieS = pd.SerieS(data,index=index)\n",
        "# Dataframe >> two dimenSional data Structure holding two dimenSional array or a table with rowS and columnS\n",
        "#dataframe can hold any data from a vpreadSheet or from Sql record or from any two dimenSional array\n",
        "#dataframe iS commonly uSed claSS in panda\n",
        "#dataframe = pd.Dataframe(data)\n",
        "\n",
        "\n",
        "# acceSSing data uSing SerieS\n",
        "import numpy as np\n",
        "import pandas as pd\n",
        "value1 = pd.Series([1, 3, 5, np.nan, 6, 8])\n",
        "value2 = pd.Series([1,2,3])\n",
        "print(value1)\n",
        "print(value2)"
      ]
    },
    {
      "cell_type": "code",
      "source": [
        "#acceSSing data uving dataframe\n",
        "import pandas as pd\n",
        "data = {\n",
        "  \"calories\": [420, 380, 390],\n",
        "  \"duration\": [50, 40, 45]\n",
        "}\n",
        "value_1 = pd.DataFrame(data)\n",
        "print(value_1)\n",
        "#to locate specific data using loc attribute return row 0\n",
        "print(\"row 0\" ,value_1.loc[1])\n"
      ],
      "metadata": {
        "colab": {
          "base_uri": "https://localhost:8080/"
        },
        "id": "97iDjm12X_5C",
        "outputId": "2352acaa-247c-4957-eb48-4e1c6211ec0a"
      },
      "execution_count": null,
      "outputs": [
        {
          "output_type": "stream",
          "name": "stdout",
          "text": [
            "   calories  duration\n",
            "0       420        50\n",
            "1       380        40\n",
            "2       390        45\n",
            "row 0 calories    380\n",
            "duration     40\n",
            "Name: 1, dtype: int64\n"
          ]
        }
      ]
    },
    {
      "cell_type": "code",
      "source": [
        "#panda Dataframe from excel file\n"
      ],
      "metadata": {
        "id": "25C0nmd3kiWI"
      },
      "execution_count": null,
      "outputs": []
    },
    {
      "cell_type": "code",
      "source": [
        "from google.colab import drive\n",
        "drive.mount('/content/drive')\n"
      ],
      "metadata": {
        "id": "_iMjdLPyNM5j",
        "colab": {
          "base_uri": "https://localhost:8080/"
        },
        "outputId": "16a77ede-04d3-43f3-e237-19d3ca49e3a0"
      },
      "execution_count": 2,
      "outputs": [
        {
          "output_type": "stream",
          "name": "stdout",
          "text": [
            "Mounted at /content/drive\n"
          ]
        }
      ]
    },
    {
      "cell_type": "code",
      "source": [
        "import pandas as pd\n",
        "data = pd.read_excel(\"/content/drive/MyDrive/Data_set_rekha/data1.xlsx\")\n",
        "\n",
        "#data.head()  #display first 5 row from the table\n",
        "#data.tail()   #display last 5 rowv from the table but can also pass a custom number\n",
        "#data.tail(3) # diplay last 3 records froom the table\n",
        "\n",
        "#using dataframe too read the data from excel\n",
        "\n",
        "data2 = pd.DataFrame(data)\n",
        "print(data2)\n",
        "row1 = data2.loc[3]\n",
        "\n",
        "# retrieving rows by iloc method\n",
        "row2 = data2.iloc[3]\n",
        "\n",
        "# checking if values are equal\n",
        "row1 == row2\n",
        "\n",
        "#velecting a single row by index\n",
        "row_alice = data2.iloc[0, :]\n",
        "print(\"\\nExtracted Row (Geek1):\")\n",
        "print(row_alice)\n",
        " #selecting multiple row by index\n",
        "rows_geek2_to_geek3 = data2.iloc[1:3, :]\n",
        "print(\"\\nExtracted Rows (Geek2 to Geek3):\")\n",
        "print(rows_geek2_to_geek3)"
      ],
      "metadata": {
        "colab": {
          "base_uri": "https://localhost:8080/"
        },
        "id": "D9Q2AxW5yY3F",
        "outputId": "35822610-aeed-458b-edbc-9157a9433c06"
      },
      "execution_count": 8,
      "outputs": [
        {
          "output_type": "stream",
          "name": "stdout",
          "text": [
            "    id  player       year  lg team   ab    r\n",
            "0   80   89474  finlest01   1  COL   43   94\n",
            "1   81   89480  embreal01   1  OAK    4    0\n",
            "2   82   89481  edmonji01   1  SLN  117  365\n",
            "3   83   89482  easleda01   1  NYN   76  193\n",
            "4   84   89489  delgaca01   1  NYN  139  538\n",
            "5   85   89493  cormirh01   1  CIN    6    0\n",
            "6   86   89494  coninje01   2  NYN   21   41\n",
            "7   87   89495  coninje01   1  CIN   80  215\n",
            "8   88   89497  clemero02   1  NYA    2    2\n",
            "9   89   89498  claytro01   2  BOS    8    6\n",
            "10  90   89499  claytro01   1  TOR   69  189\n",
            "11  91   89501  cirilje01   2  ARI   28   40\n",
            "12  92   89502  cirilje01   1  MIN   50  153\n",
            "13  93   89521  bondsba01   1  SFN  126  340\n",
            "14  94   89523  biggicr01   1  HOU  141  517\n",
            "15  95   89525  benitar01   2  FLO   34    0\n",
            "16  96   89526  benitar01   1  SFN   19    0\n",
            "17  97   89530  ausmubr01   1  HOU  117  349\n",
            "18  98   89533   aloumo01   1  NYN   87  328\n",
            "19  99   89534  alomasa02   1  NYN    8   22\n",
            "\n",
            "Extracted Row (Geek1):\n",
            "id               80\n",
            "player        89474\n",
            "year      finlest01\n",
            "lg                1\n",
            "team            COL\n",
            "ab               43\n",
            "r                94\n",
            "Name: 0, dtype: object\n",
            "\n",
            "Extracted Rows (Geek2 to Geek3):\n",
            "   id  player       year  lg team   ab    r\n",
            "1  81   89480  embreal01   1  OAK    4    0\n",
            "2  82   89481  edmonji01   1  SLN  117  365\n"
          ]
        }
      ]
    },
    {
      "cell_type": "code",
      "source": [
        "#Merge , join , concenate , compare\n",
        "import pandas as pd\n",
        "sheet1 = pd.read_excel(\"/content/drive/MyDrive/Data_set_rekha/data1.xlsx\")\n",
        "sheet2 = pd.read_excel(\"/content/drive/MyDrive/Data_set_rekha/test.xlsx\")\n",
        "sheet1_data = pd.DataFrame(sheet1)\n",
        "sheet2_data = pd.DataFrame(sheet2)\n",
        "sheet_datas = [sheet1_data,sheet2_data]\n",
        "#concat\n",
        "data_result = pd.concat(sheet_datas)\n",
        "print(data_result)\n",
        "#print(data_result.loc[6])\n",
        "#using merge\n",
        "#data_merge_value = pd.merge(sheet1_data, sheet2_data, on=\"id\", how=\"outer\", indicator=True)\n",
        "#print(data_merge_value)\n",
        "#using join\n",
        "\n"
      ],
      "metadata": {
        "colab": {
          "base_uri": "https://localhost:8080/",
          "height": 848
        },
        "id": "Cr6wYhxUICch",
        "outputId": "dff0ee8b-5756-4a95-fab0-dcad8bc78074"
      },
      "execution_count": null,
      "outputs": [
        {
          "output_type": "stream",
          "name": "stdout",
          "text": [
            "      id   player       year   lg team     ab      r   Name  Marks\n",
            "0   80.0  89474.0  finlest01  1.0  COL   43.0   94.0    NaN    NaN\n",
            "1   81.0  89480.0  embreal01  1.0  OAK    4.0    0.0    NaN    NaN\n",
            "2   82.0  89481.0  edmonji01  1.0  SLN  117.0  365.0    NaN    NaN\n",
            "3   83.0  89482.0  easleda01  1.0  NYN   76.0  193.0    NaN    NaN\n",
            "4   84.0  89489.0  delgaca01  1.0  NYN  139.0  538.0    NaN    NaN\n",
            "5   85.0  89493.0  cormirh01  1.0  CIN    6.0    0.0    NaN    NaN\n",
            "6   86.0  89494.0  coninje01  2.0  NYN   21.0   41.0    NaN    NaN\n",
            "7   87.0  89495.0  coninje01  1.0  CIN   80.0  215.0    NaN    NaN\n",
            "8   88.0  89497.0  clemero02  1.0  NYA    2.0    2.0    NaN    NaN\n",
            "9   89.0  89498.0  claytro01  2.0  BOS    8.0    6.0    NaN    NaN\n",
            "10  90.0  89499.0  claytro01  1.0  TOR   69.0  189.0    NaN    NaN\n",
            "11  91.0  89501.0  cirilje01  2.0  ARI   28.0   40.0    NaN    NaN\n",
            "12  92.0  89502.0  cirilje01  1.0  MIN   50.0  153.0    NaN    NaN\n",
            "13  93.0  89521.0  bondsba01  1.0  SFN  126.0  340.0    NaN    NaN\n",
            "14  94.0  89523.0  biggicr01  1.0  HOU  141.0  517.0    NaN    NaN\n",
            "15  95.0  89525.0  benitar01  2.0  FLO   34.0    0.0    NaN    NaN\n",
            "16  96.0  89526.0  benitar01  1.0  SFN   19.0    0.0    NaN    NaN\n",
            "17  97.0  89530.0  ausmubr01  1.0  HOU  117.0  349.0    NaN    NaN\n",
            "18  98.0  89533.0   aloumo01  1.0  NYN   87.0  328.0    NaN    NaN\n",
            "19  99.0  89534.0  alomasa02  1.0  NYN    8.0   22.0    NaN    NaN\n",
            "0    NaN      NaN        NaN  NaN  NaN    NaN    NaN  rekha   90.0\n",
            "1    NaN      NaN        NaN  NaN  NaN    NaN    NaN    len   25.0\n",
            "2    NaN      NaN        NaN  NaN  NaN    NaN    NaN    abc   78.0\n"
          ]
        },
        {
          "output_type": "error",
          "ename": "KeyError",
          "evalue": "ignored",
          "traceback": [
            "\u001b[0;31m---------------------------------------------------------------------------\u001b[0m",
            "\u001b[0;31mKeyError\u001b[0m                                  Traceback (most recent call last)",
            "\u001b[0;32m<ipython-input-21-a67e796e783d>\u001b[0m in \u001b[0;36m<cell line: 13>\u001b[0;34m()\u001b[0m\n\u001b[1;32m     11\u001b[0m \u001b[0;31m#print(data_result.loc[6])\u001b[0m\u001b[0;34m\u001b[0m\u001b[0;34m\u001b[0m\u001b[0m\n\u001b[1;32m     12\u001b[0m \u001b[0;31m#using merge\u001b[0m\u001b[0;34m\u001b[0m\u001b[0;34m\u001b[0m\u001b[0m\n\u001b[0;32m---> 13\u001b[0;31m \u001b[0mdata_merge_value\u001b[0m \u001b[0;34m=\u001b[0m \u001b[0mpd\u001b[0m\u001b[0;34m.\u001b[0m\u001b[0mmerge\u001b[0m\u001b[0;34m(\u001b[0m\u001b[0msheet1_data\u001b[0m\u001b[0;34m,\u001b[0m \u001b[0msheet2_data\u001b[0m\u001b[0;34m,\u001b[0m \u001b[0mon\u001b[0m\u001b[0;34m=\u001b[0m\u001b[0;34m\"id\"\u001b[0m\u001b[0;34m,\u001b[0m \u001b[0mhow\u001b[0m\u001b[0;34m=\u001b[0m\u001b[0;34m\"outer\"\u001b[0m\u001b[0;34m,\u001b[0m \u001b[0mindicator\u001b[0m\u001b[0;34m=\u001b[0m\u001b[0;32mTrue\u001b[0m\u001b[0;34m)\u001b[0m\u001b[0;34m\u001b[0m\u001b[0;34m\u001b[0m\u001b[0m\n\u001b[0m\u001b[1;32m     14\u001b[0m \u001b[0;31m#print(data_merge_value)\u001b[0m\u001b[0;34m\u001b[0m\u001b[0;34m\u001b[0m\u001b[0m\n\u001b[1;32m     15\u001b[0m \u001b[0;31m#using join\u001b[0m\u001b[0;34m\u001b[0m\u001b[0;34m\u001b[0m\u001b[0m\n",
            "\u001b[0;32m/usr/local/lib/python3.10/dist-packages/pandas/core/reshape/merge.py\u001b[0m in \u001b[0;36mmerge\u001b[0;34m(left, right, how, on, left_on, right_on, left_index, right_index, sort, suffixes, copy, indicator, validate)\u001b[0m\n\u001b[1;32m    108\u001b[0m     \u001b[0mvalidate\u001b[0m\u001b[0;34m:\u001b[0m \u001b[0mstr\u001b[0m \u001b[0;34m|\u001b[0m \u001b[0;32mNone\u001b[0m \u001b[0;34m=\u001b[0m \u001b[0;32mNone\u001b[0m\u001b[0;34m,\u001b[0m\u001b[0;34m\u001b[0m\u001b[0;34m\u001b[0m\u001b[0m\n\u001b[1;32m    109\u001b[0m ) -> DataFrame:\n\u001b[0;32m--> 110\u001b[0;31m     op = _MergeOperation(\n\u001b[0m\u001b[1;32m    111\u001b[0m         \u001b[0mleft\u001b[0m\u001b[0;34m,\u001b[0m\u001b[0;34m\u001b[0m\u001b[0;34m\u001b[0m\u001b[0m\n\u001b[1;32m    112\u001b[0m         \u001b[0mright\u001b[0m\u001b[0;34m,\u001b[0m\u001b[0;34m\u001b[0m\u001b[0;34m\u001b[0m\u001b[0m\n",
            "\u001b[0;32m/usr/local/lib/python3.10/dist-packages/pandas/core/reshape/merge.py\u001b[0m in \u001b[0;36m__init__\u001b[0;34m(self, left, right, how, on, left_on, right_on, axis, left_index, right_index, sort, suffixes, indicator, validate)\u001b[0m\n\u001b[1;32m    701\u001b[0m             \u001b[0mself\u001b[0m\u001b[0;34m.\u001b[0m\u001b[0mright_join_keys\u001b[0m\u001b[0;34m,\u001b[0m\u001b[0;34m\u001b[0m\u001b[0;34m\u001b[0m\u001b[0m\n\u001b[1;32m    702\u001b[0m             \u001b[0mself\u001b[0m\u001b[0;34m.\u001b[0m\u001b[0mjoin_names\u001b[0m\u001b[0;34m,\u001b[0m\u001b[0;34m\u001b[0m\u001b[0;34m\u001b[0m\u001b[0m\n\u001b[0;32m--> 703\u001b[0;31m         ) = self._get_merge_keys()\n\u001b[0m\u001b[1;32m    704\u001b[0m \u001b[0;34m\u001b[0m\u001b[0m\n\u001b[1;32m    705\u001b[0m         \u001b[0;31m# validate the merge keys dtypes. We may need to coerce\u001b[0m\u001b[0;34m\u001b[0m\u001b[0;34m\u001b[0m\u001b[0m\n",
            "\u001b[0;32m/usr/local/lib/python3.10/dist-packages/pandas/core/reshape/merge.py\u001b[0m in \u001b[0;36m_get_merge_keys\u001b[0;34m(self)\u001b[0m\n\u001b[1;32m   1160\u001b[0m                         \u001b[0mrk\u001b[0m \u001b[0;34m=\u001b[0m \u001b[0mcast\u001b[0m\u001b[0;34m(\u001b[0m\u001b[0mHashable\u001b[0m\u001b[0;34m,\u001b[0m \u001b[0mrk\u001b[0m\u001b[0;34m)\u001b[0m\u001b[0;34m\u001b[0m\u001b[0;34m\u001b[0m\u001b[0m\n\u001b[1;32m   1161\u001b[0m                         \u001b[0;32mif\u001b[0m \u001b[0mrk\u001b[0m \u001b[0;32mis\u001b[0m \u001b[0;32mnot\u001b[0m \u001b[0;32mNone\u001b[0m\u001b[0;34m:\u001b[0m\u001b[0;34m\u001b[0m\u001b[0;34m\u001b[0m\u001b[0m\n\u001b[0;32m-> 1162\u001b[0;31m                             \u001b[0mright_keys\u001b[0m\u001b[0;34m.\u001b[0m\u001b[0mappend\u001b[0m\u001b[0;34m(\u001b[0m\u001b[0mright\u001b[0m\u001b[0;34m.\u001b[0m\u001b[0m_get_label_or_level_values\u001b[0m\u001b[0;34m(\u001b[0m\u001b[0mrk\u001b[0m\u001b[0;34m)\u001b[0m\u001b[0;34m)\u001b[0m\u001b[0;34m\u001b[0m\u001b[0;34m\u001b[0m\u001b[0m\n\u001b[0m\u001b[1;32m   1163\u001b[0m                         \u001b[0;32melse\u001b[0m\u001b[0;34m:\u001b[0m\u001b[0;34m\u001b[0m\u001b[0;34m\u001b[0m\u001b[0m\n\u001b[1;32m   1164\u001b[0m                             \u001b[0;31m# work-around for merge_asof(right_index=True)\u001b[0m\u001b[0;34m\u001b[0m\u001b[0;34m\u001b[0m\u001b[0m\n",
            "\u001b[0;32m/usr/local/lib/python3.10/dist-packages/pandas/core/generic.py\u001b[0m in \u001b[0;36m_get_label_or_level_values\u001b[0;34m(self, key, axis)\u001b[0m\n\u001b[1;32m   1848\u001b[0m             )\n\u001b[1;32m   1849\u001b[0m         \u001b[0;32melse\u001b[0m\u001b[0;34m:\u001b[0m\u001b[0;34m\u001b[0m\u001b[0;34m\u001b[0m\u001b[0m\n\u001b[0;32m-> 1850\u001b[0;31m             \u001b[0;32mraise\u001b[0m \u001b[0mKeyError\u001b[0m\u001b[0;34m(\u001b[0m\u001b[0mkey\u001b[0m\u001b[0;34m)\u001b[0m\u001b[0;34m\u001b[0m\u001b[0;34m\u001b[0m\u001b[0m\n\u001b[0m\u001b[1;32m   1851\u001b[0m \u001b[0;34m\u001b[0m\u001b[0m\n\u001b[1;32m   1852\u001b[0m         \u001b[0;31m# Check for duplicates\u001b[0m\u001b[0;34m\u001b[0m\u001b[0;34m\u001b[0m\u001b[0m\n",
            "\u001b[0;31mKeyError\u001b[0m: 'id'"
          ]
        }
      ]
    }
  ]
}