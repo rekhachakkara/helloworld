{
  "nbformat": 4,
  "nbformat_minor": 0,
  "metadata": {
    "colab": {
      "provenance": [],
      "authorship_tag": "ABX9TyOSE4yHxuXX3p579cgh5i6z",
      "include_colab_link": true
    },
    "kernelspec": {
      "name": "python3",
      "display_name": "Python 3"
    },
    "language_info": {
      "name": "python"
    }
  },
  "cells": [
    {
      "cell_type": "markdown",
      "metadata": {
        "id": "view-in-github",
        "colab_type": "text"
      },
      "source": [
        "<a href=\"https://colab.research.google.com/github/rekhachakkara/python_learning/blob/master/sorting_pandas.ipynb\" target=\"_parent\"><img src=\"https://colab.research.google.com/assets/colab-badge.svg\" alt=\"Open In Colab\"/></a>"
      ]
    },
    {
      "cell_type": "code",
      "execution_count": 31,
      "metadata": {
        "colab": {
          "base_uri": "https://localhost:8080/",
          "height": 989
        },
        "id": "zfYZHRkkRb-n",
        "outputId": "3fbb0be5-dd31-4039-91f2-73e1f3d9e59d"
      },
      "outputs": [
        {
          "output_type": "stream",
          "name": "stdout",
          "text": [
            "  Data1  Data2  Data3 Data4\n",
            "0     A      2      0     a\n",
            "1     A      1      1     B\n",
            "2     B      9      9     c\n",
            "3   NaN      8      4     D\n",
            "4     D      7      2     e\n",
            "5     C      4      3     F\n",
            "  Data1  Data2  Data3 Data4\n",
            "4     D      7      2     e\n",
            "5     C      4      3     F\n",
            "2     B      9      9     c\n",
            "0     A      2      0     a\n",
            "1     A      1      1     B\n",
            "3   NaN      8      4     D\n",
            "  Data1  Data2  Data3 Data4\n",
            "1     A      1      1     B\n",
            "0     A      2      0     a\n",
            "5     C      4      3     F\n",
            "4     D      7      2     e\n",
            "3   NaN      8      4     D\n",
            "2     B      9      9     c\n",
            "  Data1  Data2  Data3 Data4\n",
            "1     A      1      1     B\n",
            "0     A      2      0     a\n",
            "5     C      4      3     F\n",
            "4     D      7      2     e\n",
            "3   NaN      8      4     D\n",
            "2     B      9      9     c\n",
            "  Data1  Data2  Data3 Data4\n",
            "3   NaN      8      4     D\n",
            "0     A      2      0     a\n",
            "1     A      1      1     B\n",
            "2     B      9      9     c\n",
            "5     C      4      3     F\n",
            "4     D      7      2     e\n",
            "  Data1  Data2  Data3 Data4\n",
            "0     A      1      1     B\n",
            "1     A      2      0     a\n",
            "2     C      4      3     F\n",
            "3     D      7      2     e\n",
            "4   NaN      8      4     D\n",
            "5     B      9      9     c\n"
          ]
        },
        {
          "output_type": "error",
          "ename": "NameError",
          "evalue": "ignored",
          "traceback": [
            "\u001b[0;31m---------------------------------------------------------------------------\u001b[0m",
            "\u001b[0;31mNameError\u001b[0m                                 Traceback (most recent call last)",
            "\u001b[0;32m<ipython-input-31-808094d85a36>\u001b[0m in \u001b[0;36m<cell line: 60>\u001b[0;34m()\u001b[0m\n\u001b[1;32m     58\u001b[0m \u001b[0mparameter_ignore_index\u001b[0m \u001b[0;34m=\u001b[0m \u001b[0mdf\u001b[0m\u001b[0;34m.\u001b[0m\u001b[0msort_values\u001b[0m\u001b[0;34m(\u001b[0m\u001b[0mby\u001b[0m\u001b[0;34m=\u001b[0m\u001b[0;34m[\u001b[0m\u001b[0;34m'Data2'\u001b[0m\u001b[0;34m]\u001b[0m\u001b[0;34m,\u001b[0m\u001b[0mignore_index\u001b[0m \u001b[0;34m=\u001b[0m\u001b[0;34m'bool'\u001b[0m\u001b[0;34m)\u001b[0m\u001b[0;34m\u001b[0m\u001b[0;34m\u001b[0m\u001b[0m\n\u001b[1;32m     59\u001b[0m \u001b[0mprint\u001b[0m\u001b[0;34m(\u001b[0m\u001b[0mparameter_ignore_index\u001b[0m\u001b[0;34m)\u001b[0m\u001b[0;34m\u001b[0m\u001b[0;34m\u001b[0m\u001b[0m\n\u001b[0;32m---> 60\u001b[0;31m \u001b[0mparameter_key\u001b[0m \u001b[0;34m=\u001b[0m \u001b[0mdf\u001b[0m\u001b[0;34m.\u001b[0m\u001b[0msort_values\u001b[0m\u001b[0;34m(\u001b[0m\u001b[0mby\u001b[0m \u001b[0;34m=\u001b[0m \u001b[0;34m[\u001b[0m\u001b[0;34m'Data1'\u001b[0m\u001b[0;34m]\u001b[0m\u001b[0;34m,\u001b[0m\u001b[0mkey\u001b[0m\u001b[0;34m=\u001b[0m\u001b[0mlamda\u001b[0m\u001b[0;34m)\u001b[0m\u001b[0;34m\u001b[0m\u001b[0;34m\u001b[0m\u001b[0m\n\u001b[0m",
            "\u001b[0;31mNameError\u001b[0m: name 'lamda' is not defined"
          ]
        }
      ],
      "source": [
        "#sort values in dataframe\n",
        "#ataFrame.sort_values(by, *, axis=0, ascending=True, inplace=False, kind='quicksort', na_position='last', ignore_index=False, key=None)[source]\n",
        "'\"parameters - by - str or list of str(by index 0/1 or column labels) axis \"'\n",
        "\"\"\"axis\n",
        "“{0 or ‘index’, 1 or ‘columns’}”, default 0\n",
        "Axis to be sorted.\n",
        "ascending\n",
        "bool or list of bool, default True\n",
        "Sort ascending vs. descending. Specify list for multiple sort orders. If this is a list of bools, must match the length of the by.\n",
        "inplace\n",
        "bool, default False\n",
        "If True, perform operation in-place.\n",
        "kind{‘quicksort’, ‘mergesort’, ‘heapsort’, ‘stable’}, default ‘quicksort’\n",
        "Choice of sorting algorithm. See also numpy.sort() for more information. mergesort and stable are the only stable algorithms.\n",
        "For DataFrames, this option is only applied when sorting on a single column or label.\n",
        "na_position\n",
        "{‘first’, ‘last’}, default ‘last’\n",
        "Puts NaNs at the beginning if first; last puts NaNs at the end.\n",
        "ignore_index\n",
        "bool, default False\n",
        "If True, the resulting axis will be labeled 0, 1, …, n - 1.\n",
        "key\n",
        "callable, optional\n",
        " Apply the key function to the values before sorting. This is similar to the key argument in the builtin sorted() function,\n",
        "with the notable difference that this key function should be vectorized.\n",
        "It should expect a Series and return a Series with the same shape as the input. It will be applied to each column in by independent\n",
        "\"\"\"\n",
        "\n",
        "\n",
        "\n",
        "import pandas as pd\n",
        "import numpy as np\n",
        "\n",
        "\n",
        "df = pd.DataFrame({\n",
        "\n",
        "    'Data1': ['A', 'A', 'B', np.nan, 'D', 'C'],\n",
        "\n",
        "    'Data2': [2, 1, 9, 8, 7, 4],\n",
        "\n",
        "    'Data3': [0, 1, 9, 4, 2, 3],\n",
        "\n",
        "    'Data4': ['a', 'B', 'c', 'D', 'e', 'F']\n",
        "\n",
        "})\n",
        "\n",
        "print(df)\n",
        "parameter_by = df.sort_values(by=['Data1'])\n",
        "parameter_by_2column = df.sort_values(by=['Data1','Data2'])\n",
        "parameter_by_ascending = df.sort_values(by=['Data1'],ascending = False)\n",
        "print(parameter_by_ascending)\n",
        "parameter_inplace = df.sort_values(by=['Data2'],inplace=False)\n",
        "print(parameter_inplace)\n",
        "parameter_kind = df.sort_values(by=['Data2'],kind='quicksort')\n",
        "print(parameter_kind)\n",
        "parameter_na_position = df.sort_values(by=['Data1'],na_position='first') #default last put nan i the last #\n",
        "print(parameter_na_position)\n",
        "parameter_ignore_index = df.sort_values(by=['Data2'],ignore_index ='bool')\n",
        "print(parameter_ignore_index)\n",
        "parameter_key = df.sort_values(by = ['Data1'],key=None)"
      ]
    }
  ]
}