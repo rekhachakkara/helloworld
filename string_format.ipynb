{
  "nbformat": 4,
  "nbformat_minor": 0,
  "metadata": {
    "colab": {
      "provenance": [],
      "authorship_tag": "ABX9TyOVY3SdCR4hi0r6DKnaPKu0",
      "include_colab_link": true
    },
    "kernelspec": {
      "name": "python3",
      "display_name": "Python 3"
    },
    "language_info": {
      "name": "python"
    }
  },
  "cells": [
    {
      "cell_type": "markdown",
      "metadata": {
        "id": "view-in-github",
        "colab_type": "text"
      },
      "source": [
        "<a href=\"https://colab.research.google.com/github/rekhachakkara/python_learning/blob/master/string_format.ipynb\" target=\"_parent\"><img src=\"https://colab.research.google.com/assets/colab-badge.svg\" alt=\"Open In Colab\"/></a>"
      ]
    },
    {
      "cell_type": "code",
      "execution_count": 9,
      "metadata": {
        "colab": {
          "base_uri": "https://localhost:8080/",
          "height": 165
        },
        "id": "BpuhGjVdA2H3",
        "outputId": "d74a8bd3-f92f-4998-df3c-3b895077b527"
      },
      "outputs": [
        {
          "output_type": "stream",
          "name": "stdout",
          "text": [
            "The price is 49 dollars\n",
            "The price is {:.2f} dollars\n"
          ]
        },
        {
          "output_type": "execute_result",
          "data": {
            "text/plain": [
              "'\\n:< \\t\\nLeft aligns the result (within the available space)\\n:> \\t\\nRight aligns the result (within the available space)\\n:^ \\t\\nCenter aligns the result (within the available space)\\n:= \\t\\nPlaces the sign to the left most position\\n:+ \\t\\nUse a plus sign to indicate if the result is positive or negative\\n:- \\t\\nUse a minus sign for negative values only\\n:  \\t\\nUse a space to insert an extra space before positive numbers (and a minus sign before negative numbers)\\n:, \\t\\nUse a comma as a thousand separator\\n:_ \\t\\nUse a underscore as a thousand separator\\n:b \\t\\nBinary format\\n:c \\t\\tConverts the value into the corresponding unicode character\\n:d \\t\\nDecimal format\\n:e \\t\\nScientific format, with a lower case e\\n:E \\t\\nScientific format, with an upper case E\\n:f \\t\\nFix point number format\\n:F \\t\\nFix point number format, in uppercase format (show inf and nan as INF and NAN)\\n:g \\t\\tGeneral format\\n:G \\t\\tGeneral format (using a upper case E for scientific notations)\\n:o \\tOctal format\\n:x \\tHex format, lower case\\n:X \\tHex format, upper case\\n:n \\t\\tNumber format\\n:% \\tPercentage format '"
            ],
            "application/vnd.google.colaboratory.intrinsic+json": {
              "type": "string"
            }
          },
          "metadata": {},
          "execution_count": 9
        }
      ],
      "source": [
        "#format  method - format the string to a velected format\n",
        "price = 49\n",
        "txt = \"The price is {} dollars\"\n",
        "txt1 = \"The price is {:.2f} dollars\"\n",
        "print(txt.format(price))\n",
        "print(format(txt1))\n",
        "#format type\n",
        "'''\n",
        ":<\n",
        "Left aligns the result (within the available space)\n",
        ":>\n",
        "Right aligns the result (within the available space)\n",
        ":^\n",
        "Center aligns the result (within the available space)\n",
        ":=\n",
        "Places the sign to the left most position\n",
        ":+\n",
        "Use a plus sign to indicate if the result is positive or negative\n",
        ":-\n",
        "Use a minus sign for negative values only\n",
        ":\n",
        "Use a space to insert an extra space before positive numbers (and a minus sign before negative numbers)\n",
        ":,\n",
        "Use a comma as a thousand separator\n",
        ":_\n",
        "Use a underscore as a thousand separator\n",
        ":b\n",
        "Binary format\n",
        ":c \t\tConverts the value into the corresponding unicode character\n",
        ":d\n",
        "Decimal format\n",
        ":e\n",
        "Scientific format, with a lower case e\n",
        ":E\n",
        "Scientific format, with an upper case E\n",
        ":f\n",
        "Fix point number format\n",
        ":F\n",
        "Fix point number format, in uppercase format (show inf and nan as INF and NAN)\n",
        ":g \t\tGeneral format\n",
        ":G \t\tGeneral format (using a upper case E for scientific notations)\n",
        ":o \tOctal format\n",
        ":x \tHex format, lower case\n",
        ":X \tHex format, upper case\n",
        ":n \t\tNumber format\n",
        ":% \tPercentage format '''\n",
        "\n"
      ]
    },
    {
      "cell_type": "code",
      "source": [
        "txt1 = \"My name is {fname}, I'm {age}\".format(fname = \"John\", age = 36)\n",
        "txt2 = \"My name is {0}, I'm {1}\".format(\"John\",36)\n",
        "txt3 = \"My name is {}, I'm {}\".format(\"John\",36)\n",
        "print(txt1)\n",
        "print(txt2)\n",
        "print(txt3)"
      ],
      "metadata": {
        "colab": {
          "base_uri": "https://localhost:8080/"
        },
        "id": "J5DwlGnsFGDo",
        "outputId": "089e98d0-dd10-4405-889c-d534d2fd274b"
      },
      "execution_count": 5,
      "outputs": [
        {
          "output_type": "stream",
          "name": "stdout",
          "text": [
            "My name is John, I'm 36\n",
            "My name is John, I'm 36\n",
            "My name is John, I'm 36\n"
          ]
        }
      ]
    }
  ]
}