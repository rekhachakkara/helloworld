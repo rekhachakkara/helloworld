{
  "nbformat": 4,
  "nbformat_minor": 0,
  "metadata": {
    "colab": {
      "provenance": [],
      "authorship_tag": "ABX9TyNagBT+ZX09yf7nFbqZYRAc",
      "include_colab_link": true
    },
    "kernelspec": {
      "name": "python3",
      "display_name": "Python 3"
    },
    "language_info": {
      "name": "python"
    }
  },
  "cells": [
    {
      "cell_type": "markdown",
      "metadata": {
        "id": "view-in-github",
        "colab_type": "text"
      },
      "source": [
        "<a href=\"https://colab.research.google.com/github/rekhachakkara/python_learning/blob/master/list_tuple.ipynb\" target=\"_parent\"><img src=\"https://colab.research.google.com/assets/colab-badge.svg\" alt=\"Open In Colab\"/></a>"
      ]
    },
    {
      "cell_type": "code",
      "execution_count": null,
      "metadata": {
        "colab": {
          "base_uri": "https://localhost:8080/"
        },
        "id": "HBQ0kw5DmZ9i",
        "outputId": "9f101c02-b11c-4f90-a19d-614562143269"
      },
      "outputs": [
        {
          "output_type": "stream",
          "name": "stdout",
          "text": [
            "hello\n"
          ]
        }
      ],
      "source": [
        "print (\"hello\")"
      ]
    },
    {
      "cell_type": "code",
      "source": [
        "list =  [1,2,3,4,5]\n",
        "print(list);\n",
        "list[3]= 66\n",
        "print(list)\n"
      ],
      "metadata": {
        "colab": {
          "base_uri": "https://localhost:8080/"
        },
        "id": "T5mw6_xMpkgo",
        "outputId": "b8c21436-fe1f-4888-8c35-7e792a30e760"
      },
      "execution_count": null,
      "outputs": [
        {
          "output_type": "stream",
          "name": "stdout",
          "text": [
            "[1, 2, 3, 4, 5]\n",
            "[1, 2, 3, 66, 5]\n"
          ]
        }
      ]
    },
    {
      "cell_type": "code",
      "source": [
        "#tuple = (1,2,3,4,5)\n",
        "print (tuple);\n",
        "#tuple(0) = 55 # immutable tuple cannot be modified\n",
        "print (tuple)\n"
      ],
      "metadata": {
        "id": "ypx7UUdTsM7K",
        "outputId": "6c6e5556-3d1a-4d56-f5af-00e0a0fbd511",
        "colab": {
          "base_uri": "https://localhost:8080/"
        }
      },
      "execution_count": null,
      "outputs": [
        {
          "output_type": "stream",
          "name": "stdout",
          "text": [
            "(1, 2, 3, 4, 5)\n",
            "(1, 2, 3, 4, 5)\n"
          ]
        }
      ]
    },
    {
      "cell_type": "code",
      "source": [
        "#tuple method\n",
        "#count() - return the number of timeS Specified value occur in the tuple\n",
        "#index() - Search the tuple and returnS the value of the poSition from where it found\n",
        "thistuple_count = (1, 3, 7, 8, 7, 5, 4, 6, 8, 5)\n",
        "x = thistuple_count.count(5)\n",
        "print(x)\n",
        "thistuple_index = (1, 3, 7, 8, 7, 5, 4, 6, 8, 5)\n",
        "y = thistuple_index.index(5)\n",
        "print(y)"
      ],
      "metadata": {
        "id": "Jh8yUeJBM9VG",
        "outputId": "83b0b72d-c715-4344-bb0e-ac08181ef3a4",
        "colab": {
          "base_uri": "https://localhost:8080/"
        }
      },
      "execution_count": 4,
      "outputs": [
        {
          "output_type": "stream",
          "name": "stdout",
          "text": [
            "2\n",
            "5\n"
          ]
        }
      ]
    }
  ]
}