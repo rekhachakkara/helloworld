{
  "nbformat": 4,
  "nbformat_minor": 0,
  "metadata": {
    "colab": {
      "provenance": [],
      "authorship_tag": "ABX9TyNIrajzY+lFKJw2GBC25HsG",
      "include_colab_link": true
    },
    "kernelspec": {
      "name": "python3",
      "display_name": "Python 3"
    },
    "language_info": {
      "name": "python"
    }
  },
  "cells": [
    {
      "cell_type": "markdown",
      "metadata": {
        "id": "view-in-github",
        "colab_type": "text"
      },
      "source": [
        "<a href=\"https://colab.research.google.com/github/rekhachakkara/python_learning/blob/master/Merge.ipynb\" target=\"_parent\"><img src=\"https://colab.research.google.com/assets/colab-badge.svg\" alt=\"Open In Colab\"/></a>"
      ]
    },
    {
      "cell_type": "code",
      "execution_count": 2,
      "metadata": {
        "id": "5GNNLOjB6u4A"
      },
      "outputs": [],
      "source": [
        "# pandas.merge(left, right, how='inner', on=None, left_on=None,\n",
        "# right_on=None, left_index=False, right_index=False, sort=False, suffixes=('_x', '_y'),\n",
        "# copy=None, indicator=False, validate=None)\n",
        "\n",
        "#merge - combining two dataframe with one or more key\n"
      ]
    }
  ]
}