{
  "nbformat": 4,
  "nbformat_minor": 0,
  "metadata": {
    "colab": {
      "provenance": [],
      "authorship_tag": "ABX9TyP7xy6JnIqlxcv+XbLDVtri",
      "include_colab_link": true
    },
    "kernelspec": {
      "name": "python3",
      "display_name": "Python 3"
    },
    "language_info": {
      "name": "python"
    }
  },
  "cells": [
    {
      "cell_type": "markdown",
      "metadata": {
        "id": "view-in-github",
        "colab_type": "text"
      },
      "source": [
        "<a href=\"https://colab.research.google.com/github/rekhachakkara/python_learning/blob/master/variable_global.ipynb\" target=\"_parent\"><img src=\"https://colab.research.google.com/assets/colab-badge.svg\" alt=\"Open In Colab\"/></a>"
      ]
    },
    {
      "cell_type": "code",
      "execution_count": 17,
      "metadata": {
        "colab": {
          "base_uri": "https://localhost:8080/"
        },
        "id": "X7GmNVGndABl",
        "outputId": "b03c5de9-5895-4450-b6ca-3ead0063c0b4"
      },
      "outputs": [
        {
          "output_type": "stream",
          "name": "stdout",
          "text": [
            "a 1\n"
          ]
        }
      ],
      "source": [
        "#global variable - created outide the function and it has global scope\n",
        "def myfunction():\n",
        "  global a\n",
        "a = 1\n",
        "myfunction()\n",
        "print(\"a\",a)"
      ]
    },
    {
      "cell_type": "code",
      "source": [
        "\n",
        "x = 1\n",
        "\n",
        "def myfunc():\n",
        "      x = 2\n",
        "      print(\"x value is \",x)\n",
        "\n",
        "myfunc()\n",
        "\n",
        "print(\"x value is \" , x)"
      ],
      "metadata": {
        "colab": {
          "base_uri": "https://localhost:8080/"
        },
        "id": "hLkCkQCxelr2",
        "outputId": "59b74a7f-d657-4fcf-c3a2-6fa91297a6fa"
      },
      "execution_count": 40,
      "outputs": [
        {
          "output_type": "stream",
          "name": "stdout",
          "text": [
            "x value is  2\n",
            "x value is  1\n"
          ]
        }
      ]
    }
  ]
}