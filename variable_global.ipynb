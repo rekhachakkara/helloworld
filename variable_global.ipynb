{
  "nbformat": 4,
  "nbformat_minor": 0,
  "metadata": {
    "colab": {
      "provenance": [],
      "authorship_tag": "ABX9TyOOIFHd65sTKA704ODZEMJ4",
      "include_colab_link": true
    },
    "kernelspec": {
      "name": "python3",
      "display_name": "Python 3"
    },
    "language_info": {
      "name": "python"
    }
  },
  "cells": [
    {
      "cell_type": "markdown",
      "metadata": {
        "id": "view-in-github",
        "colab_type": "text"
      },
      "source": [
        "<a href=\"https://colab.research.google.com/github/rekhachakkara/python_learning/blob/master/variable_global.ipynb\" target=\"_parent\"><img src=\"https://colab.research.google.com/assets/colab-badge.svg\" alt=\"Open In Colab\"/></a>"
      ]
    },
    {
      "cell_type": "code",
      "execution_count": 17,
      "metadata": {
        "colab": {
          "base_uri": "https://localhost:8080/"
        },
        "id": "X7GmNVGndABl",
        "outputId": "b03c5de9-5895-4450-b6ca-3ead0063c0b4"
      },
      "outputs": [
        {
          "output_type": "stream",
          "name": "stdout",
          "text": [
            "a 1\n"
          ]
        }
      ],
      "source": [
        "#global variable - created outide the function and it has global scope\n",
        "def myfunction():\n",
        "  global a\n",
        "a = 1\n",
        "myfunction()\n",
        "print(\"a\",a)"
      ]
    },
    {
      "cell_type": "code",
      "source": [
        "def func():\n",
        "  a = 1\n",
        "  print(\"a\",a)"
      ],
      "metadata": {
        "id": "hLkCkQCxelr2"
      },
      "execution_count": 24,
      "outputs": []
    }
  ]
}