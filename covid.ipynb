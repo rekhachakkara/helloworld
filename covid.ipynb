{
  "nbformat": 4,
  "nbformat_minor": 0,
  "metadata": {
    "colab": {
      "provenance": [],
      "authorship_tag": "ABX9TyM0wwmbHIvvjhTRKAfLmXYv",
      "include_colab_link": true
    },
    "kernelspec": {
      "name": "python3",
      "display_name": "Python 3"
    },
    "language_info": {
      "name": "python"
    }
  },
  "cells": [
    {
      "cell_type": "markdown",
      "metadata": {
        "id": "view-in-github",
        "colab_type": "text"
      },
      "source": [
        "<a href=\"https://colab.research.google.com/github/rekhachakkara/python_learning/blob/master/covid.ipynb\" target=\"_parent\"><img src=\"https://colab.research.google.com/assets/colab-badge.svg\" alt=\"Open In Colab\"/></a>"
      ]
    },
    {
      "cell_type": "code",
      "execution_count": 1,
      "metadata": {
        "colab": {
          "base_uri": "https://localhost:8080/"
        },
        "id": "IuyadKPyE281",
        "outputId": "aa9002fa-4d51-494c-a7c1-535724c814fc"
      },
      "outputs": [
        {
          "output_type": "stream",
          "name": "stdout",
          "text": [
            "Mounted at /content/drive\n"
          ]
        }
      ],
      "source": [
        "from google.colab import drive\n",
        "drive.mount('/content/drive')\n",
        "\n"
      ]
    },
    {
      "cell_type": "code",
      "source": [
        "import pandas  as  pd\n",
        "import datetime\n",
        "excel_one = pd.read_csv(\"/content/drive/MyDrive/Data_set_rekha/us-counties-recent.csv\")\n",
        "excel_two = pd.read_csv(\"/content/drive/MyDrive/Data_set_rekha/us-counties.csv\")\n",
        "#print(excel_one.head(5))\n",
        "#print(excel_two.head(5))\n",
        "merge_excel = pd.merge(excel_one,excel_two,how=\"outer\")\n",
        "\n",
        "unique_country = merge_excel.county.unique()\n",
        "#print(unique_country)\n",
        "unique_state = merge_excel.state.unique()\n",
        "#print(unique_state)\n",
        "\n",
        "#extract year from date column\n",
        "\n",
        "merge_excel['year'] = pd.DatetimeIndex(merge_excel['date']).year\n",
        "merge_excel['month'] = pd.DatetimeIndex(merge_excel['date']).month\n",
        "\n",
        "print(merge_excel.head(10))"
      ],
      "metadata": {
        "colab": {
          "base_uri": "https://localhost:8080/"
        },
        "id": "qm1bBEYOFSx8",
        "outputId": "56dbc0de-f36d-400a-aaba-90132b58b5b4"
      },
      "execution_count": 13,
      "outputs": [
        {
          "output_type": "stream",
          "name": "stdout",
          "text": [
            "         date    county    state    fips  cases  deaths  year  month\n",
            "0  2021-12-11   Autauga  Alabama  1001.0  10596   158.0  2021     12\n",
            "1  2021-12-11   Baldwin  Alabama  1003.0  38307   591.0  2021     12\n",
            "2  2021-12-11   Barbour  Alabama  1005.0   3716    81.0  2021     12\n",
            "3  2021-12-11      Bibb  Alabama  1007.0   4379    95.0  2021     12\n",
            "4  2021-12-11    Blount  Alabama  1009.0  10857   193.0  2021     12\n",
            "5  2021-12-11   Bullock  Alabama  1011.0   1537    46.0  2021     12\n",
            "6  2021-12-11    Butler  Alabama  1013.0   3466   102.0  2021     12\n",
            "7  2021-12-11   Calhoun  Alabama  1015.0  22695   522.0  2021     12\n",
            "8  2021-12-11  Chambers  Alabama  1017.0   5830   143.0  2021     12\n",
            "9  2021-12-11  Cherokee  Alabama  1019.0   3230    64.0  2021     12\n"
          ]
        }
      ]
    }
  ]
}