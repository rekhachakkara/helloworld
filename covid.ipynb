{
  "nbformat": 4,
  "nbformat_minor": 0,
  "metadata": {
    "colab": {
      "provenance": [],
      "authorship_tag": "ABX9TyPeeE0fIS3EjkdK98jGgFv8",
      "include_colab_link": true
    },
    "kernelspec": {
      "name": "python3",
      "display_name": "Python 3"
    },
    "language_info": {
      "name": "python"
    }
  },
  "cells": [
    {
      "cell_type": "markdown",
      "metadata": {
        "id": "view-in-github",
        "colab_type": "text"
      },
      "source": [
        "<a href=\"https://colab.research.google.com/github/rekhachakkara/python_learning/blob/master/covid.ipynb\" target=\"_parent\"><img src=\"https://colab.research.google.com/assets/colab-badge.svg\" alt=\"Open In Colab\"/></a>"
      ]
    },
    {
      "cell_type": "code",
      "execution_count": 1,
      "metadata": {
        "colab": {
          "base_uri": "https://localhost:8080/"
        },
        "id": "IuyadKPyE281",
        "outputId": "aa9002fa-4d51-494c-a7c1-535724c814fc"
      },
      "outputs": [
        {
          "output_type": "stream",
          "name": "stdout",
          "text": [
            "Mounted at /content/drive\n"
          ]
        }
      ],
      "source": [
        "from google.colab import drive\n",
        "drive.mount('/content/drive')\n",
        "\n"
      ]
    },
    {
      "cell_type": "code",
      "source": [
        "import pandas  as  pd\n",
        "excel_one = pd.read_csv(\"/content/drive/MyDrive/Data_set_rekha/us-counties-recent.csv\")\n",
        "excel_two = pd.read_csv(\"/content/drive/MyDrive/Data_set_rekha/us-counties.csv\")\n",
        "#print(excel_one.head(5))\n",
        "#print(excel_two.head(5))\n",
        "merge_excel = pd.merge(excel_one,excel_two,how=\"outer\")\n",
        "print(merge_excel.head(10))\n",
        "unique_country = merge_excel.county.unique()\n",
        "print(unique_country)\n",
        "unique_state = merge_excel.state.unique()\n",
        "print(unique_state)"
      ],
      "metadata": {
        "colab": {
          "base_uri": "https://localhost:8080/"
        },
        "id": "qm1bBEYOFSx8",
        "outputId": "5d7cfe07-9416-4327-f61d-6b0c32e95ac4"
      },
      "execution_count": 9,
      "outputs": [
        {
          "output_type": "stream",
          "name": "stdout",
          "text": [
            "         date    county    state    fips  cases  deaths\n",
            "0  2021-12-11   Autauga  Alabama  1001.0  10596   158.0\n",
            "1  2021-12-11   Baldwin  Alabama  1003.0  38307   591.0\n",
            "2  2021-12-11   Barbour  Alabama  1005.0   3716    81.0\n",
            "3  2021-12-11      Bibb  Alabama  1007.0   4379    95.0\n",
            "4  2021-12-11    Blount  Alabama  1009.0  10857   193.0\n",
            "5  2021-12-11   Bullock  Alabama  1011.0   1537    46.0\n",
            "6  2021-12-11    Butler  Alabama  1013.0   3466   102.0\n",
            "7  2021-12-11   Calhoun  Alabama  1015.0  22695   522.0\n",
            "8  2021-12-11  Chambers  Alabama  1017.0   5830   143.0\n",
            "9  2021-12-11  Cherokee  Alabama  1019.0   3230    64.0\n",
            "['Autauga' 'Baldwin' 'Barbour' ... 'Uinta' 'Washakie' 'Weston']\n",
            "['Alabama' 'Alaska' 'American Samoa' 'Arizona' 'Arkansas' 'California'\n",
            " 'Colorado' 'Connecticut' 'Delaware' 'District of Columbia' 'Florida'\n",
            " 'Georgia' 'Guam' 'Hawaii' 'Idaho' 'Illinois' 'Indiana' 'Iowa' 'Kansas'\n",
            " 'Kentucky' 'Louisiana' 'Maine' 'Maryland' 'Massachusetts' 'Michigan'\n",
            " 'Minnesota' 'Mississippi' 'Missouri' 'Montana' 'Nebraska' 'Nevada'\n",
            " 'New Hampshire' 'New Jersey' 'New Mexico' 'New York' 'North Carolina'\n",
            " 'North Dakota' 'Northern Mariana Islands' 'Ohio' 'Oklahoma' 'Oregon'\n",
            " 'Pennsylvania' 'Puerto Rico' 'Rhode Island' 'South Carolina'\n",
            " 'South Dakota' 'Tennessee' 'Texas' 'Utah' 'Vermont' 'Virgin Islands'\n",
            " 'Virginia' 'Washington' 'West Virginia' 'Wisconsin' 'Wyoming']\n"
          ]
        }
      ]
    }
  ]
}